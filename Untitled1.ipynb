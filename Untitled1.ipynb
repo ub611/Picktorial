{
 "cells": [
  {
   "cell_type": "code",
   "execution_count": 8,
   "metadata": {},
   "outputs": [
    {
     "name": "stderr",
     "output_type": "stream",
     "text": [
      "/Library/Frameworks/Python.framework/Versions/3.6/lib/python3.6/site-packages/konlpy/tag/_okt.py:16: UserWarning: \"Twitter\" has changed to \"Okt\" since KoNLPy v0.4.5.\n",
      "  warn('\"Twitter\" has changed to \"Okt\" since KoNLPy v0.4.5.')\n"
     ]
    }
   ],
   "source": [
    "from konlpy.tag import Twitter; t = Twitter()\n",
    "\n",
    "from nltk.corpus import stopwords \n",
    "from nltk.tokenize import word_tokenize \n",
    "\n",
    "import nltk\n",
    "import gensim\n",
    "\n",
    "from gensim import corpora\n",
    "from gensim import models\n",
    "from gensim.models import word2vec\n",
    "\n",
    "\n",
    "stop_words = \"굿 게임 은 는 이 가 ~ ㅎㅎ 거 안 에서 ㅋ ㅠㅠ 너무 좋아요 도 을 . 에 요 제 가 재밌어요 ! 정말 ... .. 넘 ? 하고 때 재미있어요 를 들 많이 최고 좀 재미 다 더 로 내\"\n",
    "stop_words=stop_words.split(' ')\n",
    "\n",
    "r = open('example_title.txt', mode='rt', encoding='utf-8')\n",
    "doc_read = r.read()\n",
    "\n",
    "def tokenize(_doc):\n",
    "    tokens_ko = t.morphs(_doc)\n",
    "    \n",
    "    result = [] \n",
    "    \n",
    "    for w in tokens_ko: \n",
    "        if w not in stop_words: \n",
    "            result.append(w) \n",
    "            \n",
    "    \n",
    "    ko = nltk.Text(result, name=u'꿈의집')   # For Python 2, input `name` as u'유니코드\n",
    "    ko.vocab()       \n",
    "    \n",
    "    pos = lambda d: ['/'.join(p) for p in t.pos(d, stem=True, norm=True)]\n",
    "    texts_ko = [pos(doc) for doc in ko]\n",
    "    \n",
    "    \n",
    "    dictionary_ko = corpora.Dictionary(texts_ko)\n",
    "    \n",
    "    tf_ko = [dictionary_ko.doc2bow(text) for text in texts_ko]\n",
    "    tfidf_model_ko = models.TfidfModel(tf_ko)\n",
    "    tfidf_ko = tfidf_model_ko[tf_ko]\n",
    "    corpora.MmCorpus.serialize('ko.mm', tfidf_ko) # save corpus to file for future use\n",
    "\n",
    "    ntopics = 3\n",
    "    nwords = 5\n",
    "    \n",
    "    lda_ko = models.ldamodel.LdaModel(tfidf_ko, id2word=dictionary_ko, num_topics=ntopics)\n",
    "    print(lda_ko.print_topics(num_topics=ntopics, num_words=nwords))"
   ]
  },
  {
   "cell_type": "code",
   "execution_count": 9,
   "metadata": {},
   "outputs": [],
   "source": [
    "def word2vec_similar(_texts_ko, similar_word) :\n",
    "    wv_model_ko = word2vec.Word2Vec(texts_ko)\n",
    "    wv_model_ko.init_sims(replace=True)\n",
    "    wv_model_ko.save('ko_word2vec.model')\n",
    "\n",
    "    wv_model_ko.most_similar(pos(similar_word))  #similar_word과 유사한 단어"
   ]
  },
  {
   "cell_type": "code",
   "execution_count": 10,
   "metadata": {},
   "outputs": [
    {
     "name": "stdout",
     "output_type": "stream",
     "text": [
      "[(0, '0.054*\"좋다/Adjective\" + 0.041*\"재밌다/Adjective\" + 0.024*\"재다/Verb\" + 0.016*\"보다/Verb\" + 0.012*\"어렵다/Adjective\"'), (1, '0.033*\"재미있다/Adjective\" + 0.028*\"같다/Adjective\" + 0.016*\"만/Noun\" + 0.015*\"짱/Noun\" + 0.014*\"가구/Noun\"'), (2, '0.092*\"하다/Verb\" + 0.047*\"꾸미다/Verb\" + 0.040*\"있다/Adjective\" + 0.034*\"집/Noun\" + 0.031*\"광고/Noun\"')]\n"
     ]
    }
   ],
   "source": [
    "tokenize(doc_read)"
   ]
  },
  {
   "cell_type": "code",
   "execution_count": 11,
   "metadata": {},
   "outputs": [
    {
     "ename": "NameError",
     "evalue": "name 'tf_ko' is not defined",
     "output_type": "error",
     "traceback": [
      "\u001b[0;31m---------------------------------------------------------------------------\u001b[0m",
      "\u001b[0;31mNameError\u001b[0m                                 Traceback (most recent call last)",
      "\u001b[0;32m<ipython-input-11-fd640d10e78b>\u001b[0m in \u001b[0;36m<module>\u001b[0;34m\u001b[0m\n\u001b[1;32m      1\u001b[0m \u001b[0;31m#Build LDA Model\u001b[0m\u001b[0;34m\u001b[0m\u001b[0;34m\u001b[0m\u001b[0m\n\u001b[1;32m      2\u001b[0m \u001b[0;34m\u001b[0m\u001b[0m\n\u001b[0;32m----> 3\u001b[0;31m lda_model = gensim.models.ldamodel.LdaModel(corpus=tf_ko,\n\u001b[0m\u001b[1;32m      4\u001b[0m \u001b[0mid2word\u001b[0m\u001b[0;34m=\u001b[0m\u001b[0mdictionary_ko\u001b[0m\u001b[0;34m,\u001b[0m\u001b[0;34m\u001b[0m\u001b[0m\n\u001b[1;32m      5\u001b[0m \u001b[0mnum_topics\u001b[0m\u001b[0;34m=\u001b[0m\u001b[0;36m20\u001b[0m\u001b[0;34m,\u001b[0m\u001b[0;34m\u001b[0m\u001b[0m\n",
      "\u001b[0;31mNameError\u001b[0m: name 'tf_ko' is not defined"
     ]
    }
   ],
   "source": [
    "#Build LDA Model\n",
    "\n",
    "lda_model = gensim.models.ldamodel.LdaModel(corpus=tf_ko,\n",
    "id2word=dictionary_ko,\n",
    "num_topics=20,\n",
    "random_state=100,\n",
    "update_every=1,\n",
    "chunksize=100,\n",
    "passes=10,\n",
    "alpha='auto',\n",
    "per_word_topics=True)"
   ]
  },
  {
   "cell_type": "code",
   "execution_count": null,
   "metadata": {},
   "outputs": [],
   "source": []
  }
 ],
 "metadata": {
  "kernelspec": {
   "display_name": "Python 3",
   "language": "python",
   "name": "python3"
  },
  "language_info": {
   "codemirror_mode": {
    "name": "ipython",
    "version": 3
   },
   "file_extension": ".py",
   "mimetype": "text/x-python",
   "name": "python",
   "nbconvert_exporter": "python",
   "pygments_lexer": "ipython3",
   "version": "3.6.5"
  }
 },
 "nbformat": 4,
 "nbformat_minor": 2
}
