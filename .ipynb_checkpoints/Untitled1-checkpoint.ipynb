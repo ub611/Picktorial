{
 "cells": [
  {
   "cell_type": "code",
   "execution_count": 4,
   "metadata": {},
   "outputs": [
    {
     "name": "stderr",
     "output_type": "stream",
     "text": [
      "/Library/Frameworks/Python.framework/Versions/3.6/lib/python3.6/site-packages/konlpy/tag/_okt.py:16: UserWarning: \"Twitter\" has changed to \"Okt\" since KoNLPy v0.4.5.\n",
      "  warn('\"Twitter\" has changed to \"Okt\" since KoNLPy v0.4.5.')\n"
     ]
    }
   ],
   "source": [
    "from konlpy.tag import Twitter; t = Twitter()\n",
    "\n",
    "from nltk.corpus import stopwords \n",
    "from nltk.tokenize import word_tokenize \n",
    "\n",
    "import nltk\n",
    "\n",
    "from gensim import corpora\n",
    "from gensim import models\n",
    "from gensim.models import word2vec\n",
    "\n",
    "\n",
    "stop_words = \"굿 게임 은 는 이 가 ~ ㅎㅎ 거 안 에서 ㅋ ㅠㅠ 너무 좋아요 도 을 . 에 요 제 가 재밌어요 ! 정말 ... .. 넘 ? 하고 때 재미있어요 를 들 많이 최고 좀 재미 다 더 로 내\"\n",
    "stop_words=stop_words.split(' ')\n",
    "\n",
    "r = open('example_title.txt', mode='rt', encoding='utf-8')\n",
    "doc_read = r.read()\n",
    "\n",
    "def tokenize(_doc):\n",
    "    tokens_ko = t.morphs(_doc)\n",
    "    \n",
    "    result = [] \n",
    "    \n",
    "    for w in tokens_ko: \n",
    "        if w not in stop_words: \n",
    "            result.append(w) \n",
    "            \n",
    "    \n",
    "    ko = nltk.Text(result, name=u'꿈의집')   # For Python 2, input `name` as u'유니코드\n",
    "    ko.vocab()       \n",
    "    \n",
    "    pos = lambda d: ['/'.join(p) for p in t.pos(d, stem=True, norm=True)]\n",
    "    texts_ko = [pos(doc) for doc in ko]\n",
    "    \n",
    "    \n",
    "    dictionary_ko = corpora.Dictionary(texts_ko)\n",
    "    \n",
    "    tf_ko = [dictionary_ko.doc2bow(text) for text in texts_ko]\n",
    "    tfidf_model_ko = models.TfidfModel(tf_ko)\n",
    "    tfidf_ko = tfidf_model_ko[tf_ko]\n",
    "    corpora.MmCorpus.serialize('ko.mm', tfidf_ko) # save corpus to file for future use\n",
    "\n",
    "    ntopics = 3\n",
    "    nwords = 5\n",
    "    \n",
    "    lda_ko = models.ldamodel.LdaModel(tfidf_ko, id2word=dictionary_ko, num_topics=ntopics)\n",
    "    print(lda_ko.print_topics(num_topics=ntopics, num_words=nwords))"
   ]
  },
  {
   "cell_type": "code",
   "execution_count": 5,
   "metadata": {},
   "outputs": [],
   "source": [
    "def word2vec_similar(_texts_ko, similar_word) :\n",
    "    wv_model_ko = word2vec.Word2Vec(texts_ko)\n",
    "    wv_model_ko.init_sims(replace=True)\n",
    "    wv_model_ko.save('ko_word2vec.model')\n",
    "\n",
    "    wv_model_ko.most_similar(pos(similar_word))  #similar_word과 유사한 단어"
   ]
  },
  {
   "cell_type": "code",
   "execution_count": 6,
   "metadata": {},
   "outputs": [
    {
     "name": "stdout",
     "output_type": "stream",
     "text": [
      "[(0, '0.100*\"하다/Verb\" + 0.050*\"꾸미다/Verb\" + 0.038*\"있다/Adjective\" + 0.019*\"보다/Verb\" + 0.016*\"만/Noun\"'), (1, '0.061*\"좋다/Adjective\" + 0.047*\"재밌다/Adjective\" + 0.032*\"재미있다/Adjective\" + 0.027*\"같다/Adjective\" + 0.021*\"돈/Noun\"'), (2, '0.030*\"집/Noun\" + 0.027*\"광고/Noun\" + 0.022*\"재다/Verb\" + 0.012*\"가구/Noun\" + 0.010*\"많다/Adjective\"')]\n"
     ]
    }
   ],
   "source": [
    "tokenize(doc_read)"
   ]
  },
  {
   "cell_type": "code",
   "execution_count": null,
   "metadata": {},
   "outputs": [],
   "source": []
  }
 ],
 "metadata": {
  "kernelspec": {
   "display_name": "Python 3",
   "language": "python",
   "name": "python3"
  },
  "language_info": {
   "codemirror_mode": {
    "name": "ipython",
    "version": 3
   },
   "file_extension": ".py",
   "mimetype": "text/x-python",
   "name": "python",
   "nbconvert_exporter": "python",
   "pygments_lexer": "ipython3",
   "version": "3.6.5"
  }
 },
 "nbformat": 4,
 "nbformat_minor": 2
}
