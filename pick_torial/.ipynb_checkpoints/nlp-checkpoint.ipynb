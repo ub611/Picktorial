{
 "cells": [
  {
   "cell_type": "code",
   "execution_count": 14,
   "metadata": {},
   "outputs": [],
   "source": [
    "from nltk.corpus import stopwords \n",
    "from nltk.tokenize import word_tokenize \n",
    "import nltk\n",
    "import pandas as pd\n",
    "import numpy as np\n",
    "import re\n",
    "import pprint\n",
    "\n",
    "# Gensim\n",
    "import gensim\n",
    "import gensim.corpora as corpora\n",
    "from gensim.utils import simple_preprocess\n",
    "from gensim.models import CoherenceModel\n",
    "\n",
    "# spacy for lemmatization\n",
    "import spacy\n",
    "\n",
    "# Plotting tools\n",
    "import pyLDAvis\n",
    "import pyLDAvis.gensim  # don't skip this\n",
    "import matplotlib.pyplot as plt\n",
    "%matplotlib inline\n",
    "\n",
    "# Enable logging for gensim - optional\n",
    "import logging\n",
    "logging.basicConfig(format='%(asctime)s : %(levelname)s : %(message)s', level=logging.ERROR)\n",
    "\n",
    "import warnings\n",
    "warnings.filterwarnings(\"ignore\",category=DeprecationWarning)"
   ]
  },
  {
   "cell_type": "code",
   "execution_count": 15,
   "metadata": {},
   "outputs": [
    {
     "name": "stdout",
     "output_type": "stream",
     "text": [
      "['굿', '게임', '은', '는', '이', '가', '~', '잼', '것', '꿀', '진짜', '할', '수', '의', '같아요', '플레이', '재미나', '!!!', '다른', '그', '아', '재미있네요', '완전', '다시', '있어요', '좋은데', '네', '해', '있는', '그냥', '이런', '갓', 'ㅋㅋ', '인', '합니다', 'game', '중', '굳', '나', '고', '못', '!!', '게', 'ㅎㅎ', '만', '하면', '^^', 'Good', '님', '재밌네요', '광고', '입니다', '잘', '한', '하는', '저', '근데', '그리고', '해주세요', '개', '와', '으로', '짱', '업데이트', '거', '안', '에서', 'ㅋ', 'ㅠㅠ', '너무', '좋아요', '도', '을', '.', '에', '요', '제', '가', '재밌어요', '!', '정말', '...', '..', '넘', '?', '하고', '때', '재미있어요', '를', '들', '많이', '최고', '좀', '재미', '다', '더', '로', '내', '이', '있', '하', '것', '들', '그', '되', '수', '이', '보', '않', '없', '나', '사람', '주', '아니', '등', '같', '우리', '때', '년', '한', '가', '지', '대하', '오', '말', '일', '그렇', '위하', '때문', '그것', '두', '말하', '알', '받', '못하', '일', '그런', '또', '문제', '더', '사회', '많', '그리고', '좋', '크', '따르', '중', '나오', '가지', '씨', '시키', '만들', '지금', '생각하', '그러', '속', '하나', '살', '모르', '적', '월', '데', '자신', '안', '어떤', '내', '경우', '명', '생각', '그녀', '다시', '이런', '앞', '보이', '번', '나', '다른', '어떻', '잔', '들', '사실', '점', '싶', '말', '정도', '원', '잘', '좀', '통하', '소리', '놓', 'ㅋㅋㅋㅋ', 'ㅋㅋㅋㅋㅋ', '....', '\"', '해서', '않다', '모르다', '없다', '돼다', '같다', '필요', '듯', '역시', '임', '편', '빨리', '어떻다', '아쉽다', '해보다', '가다', '까지', '아주', '함', '즐겁다', '재밌다', '매우', '좋다', '좋다', '않다', '해보다', '1', '하다', '감사하다', '아니다', '만들다', '깔다', '있다', '주다', '왜', '만들다', '모르다', '싶다', 'good', 'i', '좋다', '인데', '그렇다', '계속', '하다', '나오다', '감사하다', '2', '3', '시간', '했는데', '감사합니다', '추가', '만들다', '해보다', '괜찮다', '써다', '주다', '조금', '굿굿', '나오다', '안되다', '아깝다', '사다', '폰', '되다', '보다', '많다', '하다', '모르다', '돼다', '아니다', '어떻다', '이네', '재밌다', '재미있다', '없다', '않다', '엄청', '나다', '뭐', '이르다', '돼다', 'I', '재밌음', '면', '하면', '한다면', '좋은', '좋', '은', '데', '그런데', '듯', '해', '나다', '건', '서다', '오다', '예요', '알다', 'and', '터', '해도', '제발', '재미있는', '짱짱', '어플', '하네요', '그러니', '좋네요', '좋', '\"', \"'\", '!', '.', ',', '~', '\"\"', '\"\\'', \"!'\", \"',\", \"!',\", '돈', '!!,', '제작자', \"^^'\", \".',\", \"?',\", \"!!',\", \"^^',\"]\n"
     ]
    }
   ],
   "source": [
    "r = open('stop_words.txt', mode = 'rt', encoding='utf-8')\n",
    "stop_read = r.read()\n",
    "stop_words=stop_read.split(' ')\n",
    "print(stop_words)"
   ]
  },
  {
   "cell_type": "code",
   "execution_count": 16,
   "metadata": {
    "scrolled": false
   },
   "outputs": [
    {
     "data": {
      "text/html": [
       "<div>\n",
       "<style scoped>\n",
       "    .dataframe tbody tr th:only-of-type {\n",
       "        vertical-align: middle;\n",
       "    }\n",
       "\n",
       "    .dataframe tbody tr th {\n",
       "        vertical-align: top;\n",
       "    }\n",
       "\n",
       "    .dataframe thead th {\n",
       "        text-align: right;\n",
       "    }\n",
       "</style>\n",
       "<table border=\"1\" class=\"dataframe\">\n",
       "  <thead>\n",
       "    <tr style=\"text-align: right;\">\n",
       "      <th></th>\n",
       "      <th>Unnamed: 0</th>\n",
       "      <th>name</th>\n",
       "      <th>review</th>\n",
       "    </tr>\n",
       "  </thead>\n",
       "  <tbody>\n",
       "    <tr>\n",
       "      <th>0</th>\n",
       "      <td>0.0</td>\n",
       "      <td>60 Seconds! Atomic Adventure</td>\n",
       "      <td>한글 옵션 가서 변경하면 잘 번역되어있고 영상 보기만 하고 폰으로 시작해서 조작감...</td>\n",
       "    </tr>\n",
       "    <tr>\n",
       "      <th>1</th>\n",
       "      <td>1.0</td>\n",
       "      <td>60 Seconds! Atomic Adventure</td>\n",
       "      <td>언어는 본인이 알아서 옵션 들어가서 바꿔야지 그게 기본 중에 기본이잖아요 그런 것...</td>\n",
       "    </tr>\n",
       "    <tr>\n",
       "      <th>2</th>\n",
       "      <td>2.0</td>\n",
       "      <td>60 Seconds! Atomic Adventure</td>\n",
       "      <td>조작감 구린 거 빼고는 다 만족합니다. 그리고 한국어 안된다 하시는 분들 그 옵션...</td>\n",
       "    </tr>\n",
       "    <tr>\n",
       "      <th>3</th>\n",
       "      <td>3.0</td>\n",
       "      <td>60 Seconds! Atomic Adventure</td>\n",
       "      <td>제가 꼭 해보고 싶었던 게임인데 이렇게 할 수 있어서 좋네요!! 좀 비싸서 고민하...</td>\n",
       "    </tr>\n",
       "    <tr>\n",
       "      <th>4</th>\n",
       "      <td>4.0</td>\n",
       "      <td>60 Seconds! Atomic Adventure</td>\n",
       "      <td>저는 이 게임이 꿀 잼입니다만 총이나 기타 같은 걸로 밖에 탐사하러나가서 몬스터나...</td>\n",
       "    </tr>\n",
       "  </tbody>\n",
       "</table>\n",
       "</div>"
      ],
      "text/plain": [
       "   Unnamed: 0                          name  \\\n",
       "0         0.0  60 Seconds! Atomic Adventure   \n",
       "1         1.0  60 Seconds! Atomic Adventure   \n",
       "2         2.0  60 Seconds! Atomic Adventure   \n",
       "3         3.0  60 Seconds! Atomic Adventure   \n",
       "4         4.0  60 Seconds! Atomic Adventure   \n",
       "\n",
       "                                              review  \n",
       "0   한글 옵션 가서 변경하면 잘 번역되어있고 영상 보기만 하고 폰으로 시작해서 조작감...  \n",
       "1   언어는 본인이 알아서 옵션 들어가서 바꿔야지 그게 기본 중에 기본이잖아요 그런 것...  \n",
       "2   조작감 구린 거 빼고는 다 만족합니다. 그리고 한국어 안된다 하시는 분들 그 옵션...  \n",
       "3   제가 꼭 해보고 싶었던 게임인데 이렇게 할 수 있어서 좋네요!! 좀 비싸서 고민하...  \n",
       "4   저는 이 게임이 꿀 잼입니다만 총이나 기타 같은 걸로 밖에 탐사하러나가서 몬스터나...  "
      ]
     },
     "execution_count": 16,
     "metadata": {},
     "output_type": "execute_result"
    }
   ],
   "source": [
    "df = pd.read_csv('all_reviews.csv', error_bad_lines=False)\n",
    "\n",
    "df.replace(np.nan, '', regex=True)    #nan replace\n",
    "df.head()"
   ]
  },
  {
   "cell_type": "code",
   "execution_count": 17,
   "metadata": {},
   "outputs": [],
   "source": [
    "#df2 = pd.read_csv('top_10_comm.csv', error_bad_lines=False)\n",
    "#df2.info()"
   ]
  },
  {
   "cell_type": "code",
   "execution_count": 18,
   "metadata": {
    "scrolled": true
   },
   "outputs": [
    {
     "name": "stdout",
     "output_type": "stream",
     "text": [
      "36356\n"
     ]
    }
   ],
   "source": [
    "data = df.review.values.tolist()\n",
    "#comm = df2.review.values.tolist()\n",
    "print(len(data))\n",
    "#print(len(comm))"
   ]
  },
  {
   "cell_type": "code",
   "execution_count": 29,
   "metadata": {},
   "outputs": [],
   "source": [
    "from konlpy.tag import Twitter; t = Twitter()\n",
    "\n",
    "tokens_ko_ex = t.morphs(str(data))\n",
    "result_ex = []\n",
    "for w in tokens_ko_ex: \n",
    "    if w not in stop_words: \n",
    "        result_ex.append(w) "
   ]
  },
  {
   "cell_type": "code",
   "execution_count": 32,
   "metadata": {},
   "outputs": [
    {
     "name": "stdout",
     "output_type": "stream",
     "text": [
      "28521\n",
      "[\"['\", '한글', '옵션', '가서', '변경', '번역', '되어있고', '영상', '보기', '시작']\n"
     ]
    }
   ],
   "source": [
    "ko_ex = nltk.Text(result_ex, name = 'ex')\n",
    "print(len(set(ko_ex.tokens)))\n",
    "print(ko_ex[:10])"
   ]
  },
  {
   "cell_type": "code",
   "execution_count": 48,
   "metadata": {},
   "outputs": [
    {
     "name": "stdout",
     "output_type": "stream",
     "text": [
      "36356\n",
      "36356\n"
     ]
    }
   ],
   "source": [
    "from konlpy.tag import Twitter; t = Twitter()\n",
    "\n",
    "tokens_ko = []\n",
    "for word in data:\n",
    "    tmp_list = t.morphs(str(word))\n",
    "    tokens_ko.append(tmp_list)\n",
    "    #print(word)\n",
    "    #tmp_list = t.morphs(str(data))   ##docs toknizing data : reviews.tolist\n",
    "\n",
    "    \n",
    "result = []\n",
    "tmp = []\n",
    "\n",
    "for word in tokens_ko: \n",
    "    tmp = []\n",
    "    for w in word:\n",
    "        if w not in stop_words: \n",
    "            tmp.append(w)\n",
    "    \n",
    "    result.append(tmp)\n",
    "        \n",
    "print(len(result))     #195671\n",
    "print(len(tokens_ko))"
   ]
  },
  {
   "cell_type": "code",
   "execution_count": 49,
   "metadata": {},
   "outputs": [
    {
     "name": "stdout",
     "output_type": "stream",
     "text": [
      "[['한글', '옵션', '가서', '변경', '번역', '되어있고', '영상', '보기', '시작', '조작', '감', '힘들지만', '적응하면', '될', '같고', '자주', '아닌데', '할인', '했을', '구매', '과자', '봉지', '값', '싸게', '삼', '2~3', '질릴', '있으나', '심심할', '하기', '좋음', '할인', '노려', '구매', '좋을']]\n"
     ]
    }
   ],
   "source": [
    "print(result[:1])"
   ]
  },
  {
   "cell_type": "code",
   "execution_count": 132,
   "metadata": {},
   "outputs": [],
   "source": [
    "#tokens_comm = t.morphs(str(comm))\n",
    "#comm_ko = nltk.Text(tokens_comm, name='token_comm')"
   ]
  },
  {
   "cell_type": "code",
   "execution_count": 47,
   "metadata": {
    "scrolled": true
   },
   "outputs": [
    {
     "ename": "AttributeError",
     "evalue": "'Text' object has no attribute 'append'",
     "output_type": "error",
     "traceback": [
      "\u001b[0;31m---------------------------------------------------------------------------\u001b[0m",
      "\u001b[0;31mAttributeError\u001b[0m                            Traceback (most recent call last)",
      "\u001b[0;32m<ipython-input-47-0b77f7f7f297>\u001b[0m in \u001b[0;36m<module>\u001b[0;34m\u001b[0m\n\u001b[1;32m      1\u001b[0m \u001b[0mko\u001b[0m \u001b[0;34m=\u001b[0m \u001b[0mnltk\u001b[0m\u001b[0;34m.\u001b[0m\u001b[0mText\u001b[0m\u001b[0;34m(\u001b[0m\u001b[0mresult\u001b[0m\u001b[0;34m,\u001b[0m \u001b[0mname\u001b[0m\u001b[0;34m=\u001b[0m\u001b[0;34m'tokens_ko'\u001b[0m\u001b[0;34m)\u001b[0m\u001b[0;34m\u001b[0m\u001b[0m\n\u001b[1;32m      2\u001b[0m \u001b[0;32mfor\u001b[0m \u001b[0mk\u001b[0m \u001b[0;32min\u001b[0m \u001b[0mresult\u001b[0m\u001b[0;34m:\u001b[0m\u001b[0;34m\u001b[0m\u001b[0m\n\u001b[0;32m----> 3\u001b[0;31m     \u001b[0mko\u001b[0m\u001b[0;34m.\u001b[0m\u001b[0mappend\u001b[0m\u001b[0;34m(\u001b[0m\u001b[0mnltk\u001b[0m\u001b[0;34m.\u001b[0m\u001b[0mText\u001b[0m\u001b[0;34m(\u001b[0m\u001b[0mk\u001b[0m\u001b[0;34m,\u001b[0m \u001b[0mname\u001b[0m \u001b[0;34m=\u001b[0m \u001b[0mk\u001b[0m\u001b[0;34m)\u001b[0m\u001b[0;34m)\u001b[0m\u001b[0;34m\u001b[0m\u001b[0m\n\u001b[0m\u001b[1;32m      4\u001b[0m \u001b[0;34m\u001b[0m\u001b[0m\n\u001b[1;32m      5\u001b[0m \u001b[0mprint\u001b[0m\u001b[0;34m(\u001b[0m\u001b[0mlen\u001b[0m\u001b[0;34m(\u001b[0m\u001b[0mko\u001b[0m\u001b[0;34m)\u001b[0m\u001b[0;34m)\u001b[0m\u001b[0;34m\u001b[0m\u001b[0m\n",
      "\u001b[0;31mAttributeError\u001b[0m: 'Text' object has no attribute 'append'"
     ]
    }
   ],
   "source": [
    "ko = nltk.Text(result, name='tokens_ko')   \n",
    "for k in result:\n",
    "    ko.append(nltk.Text(k, name = k))\n",
    "\n",
    "print(len(ko))\n",
    "print(len(set(ko.tokens))) # returns number of unique tokens\n",
    "ko.vocab()                  # returns frequency distribution"
   ]
  },
  {
   "cell_type": "code",
   "execution_count": 35,
   "metadata": {
    "scrolled": true
   },
   "outputs": [
    {
     "name": "stderr",
     "output_type": "stream",
     "text": [
      "/Library/Frameworks/Python.framework/Versions/3.6/lib/python3.6/site-packages/konlpy/tag/_okt.py:16: UserWarning: \"Twitter\" has changed to \"Okt\" since KoNLPy v0.4.5.\n",
      "  warn('\"Twitter\" has changed to \"Okt\" since KoNLPy v0.4.5.')\n"
     ]
    },
    {
     "ename": "RuntimeError",
     "evalue": "No matching overloads found for tokenize in find. at native/common/jp_method.cpp:127",
     "output_type": "error",
     "traceback": [
      "\u001b[0;31m---------------------------------------------------------------------------\u001b[0m",
      "\u001b[0;31mRuntimeError\u001b[0m                              Traceback (most recent call last)",
      "\u001b[0;32m<ipython-input-35-27cc2acec87c>\u001b[0m in \u001b[0;36m<module>\u001b[0;34m\u001b[0m\n\u001b[1;32m      2\u001b[0m \u001b[0;34m\u001b[0m\u001b[0m\n\u001b[1;32m      3\u001b[0m \u001b[0mpos\u001b[0m \u001b[0;34m=\u001b[0m \u001b[0;32mlambda\u001b[0m \u001b[0md\u001b[0m\u001b[0;34m:\u001b[0m \u001b[0;34m[\u001b[0m\u001b[0;34m'/'\u001b[0m\u001b[0;34m.\u001b[0m\u001b[0mjoin\u001b[0m\u001b[0;34m(\u001b[0m\u001b[0mp\u001b[0m\u001b[0;34m)\u001b[0m \u001b[0;32mfor\u001b[0m \u001b[0mp\u001b[0m \u001b[0;32min\u001b[0m \u001b[0mt\u001b[0m\u001b[0;34m.\u001b[0m\u001b[0mpos\u001b[0m\u001b[0;34m(\u001b[0m\u001b[0md\u001b[0m\u001b[0;34m,\u001b[0m \u001b[0mstem\u001b[0m\u001b[0;34m=\u001b[0m\u001b[0;32mTrue\u001b[0m\u001b[0;34m,\u001b[0m \u001b[0mnorm\u001b[0m\u001b[0;34m=\u001b[0m\u001b[0;32mTrue\u001b[0m\u001b[0;34m)\u001b[0m\u001b[0;34m]\u001b[0m\u001b[0;34m\u001b[0m\u001b[0m\n\u001b[0;32m----> 4\u001b[0;31m \u001b[0mtexts_ko\u001b[0m \u001b[0;34m=\u001b[0m \u001b[0;34m[\u001b[0m\u001b[0mpos\u001b[0m\u001b[0;34m(\u001b[0m\u001b[0mdoc\u001b[0m\u001b[0;34m)\u001b[0m \u001b[0;32mfor\u001b[0m \u001b[0mdoc\u001b[0m \u001b[0;32min\u001b[0m \u001b[0mko\u001b[0m\u001b[0;34m]\u001b[0m\u001b[0;34m\u001b[0m\u001b[0m\n\u001b[0m\u001b[1;32m      5\u001b[0m \u001b[0;31m#print(texts_ko)\u001b[0m\u001b[0;34m\u001b[0m\u001b[0;34m\u001b[0m\u001b[0m\n",
      "\u001b[0;32m<ipython-input-35-27cc2acec87c>\u001b[0m in \u001b[0;36m<listcomp>\u001b[0;34m(.0)\u001b[0m\n\u001b[1;32m      2\u001b[0m \u001b[0;34m\u001b[0m\u001b[0m\n\u001b[1;32m      3\u001b[0m \u001b[0mpos\u001b[0m \u001b[0;34m=\u001b[0m \u001b[0;32mlambda\u001b[0m \u001b[0md\u001b[0m\u001b[0;34m:\u001b[0m \u001b[0;34m[\u001b[0m\u001b[0;34m'/'\u001b[0m\u001b[0;34m.\u001b[0m\u001b[0mjoin\u001b[0m\u001b[0;34m(\u001b[0m\u001b[0mp\u001b[0m\u001b[0;34m)\u001b[0m \u001b[0;32mfor\u001b[0m \u001b[0mp\u001b[0m \u001b[0;32min\u001b[0m \u001b[0mt\u001b[0m\u001b[0;34m.\u001b[0m\u001b[0mpos\u001b[0m\u001b[0;34m(\u001b[0m\u001b[0md\u001b[0m\u001b[0;34m,\u001b[0m \u001b[0mstem\u001b[0m\u001b[0;34m=\u001b[0m\u001b[0;32mTrue\u001b[0m\u001b[0;34m,\u001b[0m \u001b[0mnorm\u001b[0m\u001b[0;34m=\u001b[0m\u001b[0;32mTrue\u001b[0m\u001b[0;34m)\u001b[0m\u001b[0;34m]\u001b[0m\u001b[0;34m\u001b[0m\u001b[0m\n\u001b[0;32m----> 4\u001b[0;31m \u001b[0mtexts_ko\u001b[0m \u001b[0;34m=\u001b[0m \u001b[0;34m[\u001b[0m\u001b[0mpos\u001b[0m\u001b[0;34m(\u001b[0m\u001b[0mdoc\u001b[0m\u001b[0;34m)\u001b[0m \u001b[0;32mfor\u001b[0m \u001b[0mdoc\u001b[0m \u001b[0;32min\u001b[0m \u001b[0mko\u001b[0m\u001b[0;34m]\u001b[0m\u001b[0;34m\u001b[0m\u001b[0m\n\u001b[0m\u001b[1;32m      5\u001b[0m \u001b[0;31m#print(texts_ko)\u001b[0m\u001b[0;34m\u001b[0m\u001b[0;34m\u001b[0m\u001b[0m\n",
      "\u001b[0;32m<ipython-input-35-27cc2acec87c>\u001b[0m in \u001b[0;36m<lambda>\u001b[0;34m(d)\u001b[0m\n\u001b[1;32m      1\u001b[0m \u001b[0;32mfrom\u001b[0m \u001b[0mkonlpy\u001b[0m\u001b[0;34m.\u001b[0m\u001b[0mtag\u001b[0m \u001b[0;32mimport\u001b[0m \u001b[0mTwitter\u001b[0m\u001b[0;34m;\u001b[0m \u001b[0mt\u001b[0m \u001b[0;34m=\u001b[0m \u001b[0mTwitter\u001b[0m\u001b[0;34m(\u001b[0m\u001b[0;34m)\u001b[0m\u001b[0;34m\u001b[0m\u001b[0m\n\u001b[1;32m      2\u001b[0m \u001b[0;34m\u001b[0m\u001b[0m\n\u001b[0;32m----> 3\u001b[0;31m \u001b[0mpos\u001b[0m \u001b[0;34m=\u001b[0m \u001b[0;32mlambda\u001b[0m \u001b[0md\u001b[0m\u001b[0;34m:\u001b[0m \u001b[0;34m[\u001b[0m\u001b[0;34m'/'\u001b[0m\u001b[0;34m.\u001b[0m\u001b[0mjoin\u001b[0m\u001b[0;34m(\u001b[0m\u001b[0mp\u001b[0m\u001b[0;34m)\u001b[0m \u001b[0;32mfor\u001b[0m \u001b[0mp\u001b[0m \u001b[0;32min\u001b[0m \u001b[0mt\u001b[0m\u001b[0;34m.\u001b[0m\u001b[0mpos\u001b[0m\u001b[0;34m(\u001b[0m\u001b[0md\u001b[0m\u001b[0;34m,\u001b[0m \u001b[0mstem\u001b[0m\u001b[0;34m=\u001b[0m\u001b[0;32mTrue\u001b[0m\u001b[0;34m,\u001b[0m \u001b[0mnorm\u001b[0m\u001b[0;34m=\u001b[0m\u001b[0;32mTrue\u001b[0m\u001b[0;34m)\u001b[0m\u001b[0;34m]\u001b[0m\u001b[0;34m\u001b[0m\u001b[0m\n\u001b[0m\u001b[1;32m      4\u001b[0m \u001b[0mtexts_ko\u001b[0m \u001b[0;34m=\u001b[0m \u001b[0;34m[\u001b[0m\u001b[0mpos\u001b[0m\u001b[0;34m(\u001b[0m\u001b[0mdoc\u001b[0m\u001b[0;34m)\u001b[0m \u001b[0;32mfor\u001b[0m \u001b[0mdoc\u001b[0m \u001b[0;32min\u001b[0m \u001b[0mko\u001b[0m\u001b[0;34m]\u001b[0m\u001b[0;34m\u001b[0m\u001b[0m\n\u001b[1;32m      5\u001b[0m \u001b[0;31m#print(texts_ko)\u001b[0m\u001b[0;34m\u001b[0m\u001b[0;34m\u001b[0m\u001b[0m\n",
      "\u001b[0;32m/Library/Frameworks/Python.framework/Versions/3.6/lib/python3.6/site-packages/konlpy/tag/_okt.py\u001b[0m in \u001b[0;36mpos\u001b[0;34m(self, phrase, norm, stem, join)\u001b[0m\n\u001b[1;32m     61\u001b[0m                     \u001b[0mphrase\u001b[0m\u001b[0;34m,\u001b[0m\u001b[0;34m\u001b[0m\u001b[0m\n\u001b[1;32m     62\u001b[0m                     \u001b[0mjpype\u001b[0m\u001b[0;34m.\u001b[0m\u001b[0mjava\u001b[0m\u001b[0;34m.\u001b[0m\u001b[0mlang\u001b[0m\u001b[0;34m.\u001b[0m\u001b[0mBoolean\u001b[0m\u001b[0;34m(\u001b[0m\u001b[0mnorm\u001b[0m\u001b[0;34m)\u001b[0m\u001b[0;34m,\u001b[0m\u001b[0;34m\u001b[0m\u001b[0m\n\u001b[0;32m---> 63\u001b[0;31m                     jpype.java.lang.Boolean(stem)).toArray()\n\u001b[0m\u001b[1;32m     64\u001b[0m         \u001b[0;32mif\u001b[0m \u001b[0mjoin\u001b[0m\u001b[0;34m:\u001b[0m\u001b[0;34m\u001b[0m\u001b[0m\n\u001b[1;32m     65\u001b[0m             \u001b[0;32mreturn\u001b[0m \u001b[0;34m[\u001b[0m\u001b[0mt\u001b[0m \u001b[0;32mfor\u001b[0m \u001b[0mt\u001b[0m \u001b[0;32min\u001b[0m \u001b[0mtokens\u001b[0m\u001b[0;34m]\u001b[0m\u001b[0;34m\u001b[0m\u001b[0m\n",
      "\u001b[0;31mRuntimeError\u001b[0m: No matching overloads found for tokenize in find. at native/common/jp_method.cpp:127"
     ]
    }
   ],
   "source": [
    "from konlpy.tag import Twitter; t = Twitter()\n",
    "\n",
    "pos = lambda d: ['/'.join(p) for p in t.pos(d, stem=True, norm=True)]\n",
    "texts_ko = [pos(doc) for doc in ko]\n",
    "#print(texts_ko)"
   ]
  },
  {
   "cell_type": "code",
   "execution_count": 131,
   "metadata": {},
   "outputs": [
    {
     "name": "stdout",
     "output_type": "stream",
     "text": [
      "195671\n",
      "195671\n"
     ]
    }
   ],
   "source": [
    "print(len(texts_ko))"
   ]
  },
  {
   "cell_type": "code",
   "execution_count": 77,
   "metadata": {},
   "outputs": [],
   "source": [
    "noun_adj_list = []\n",
    "\n",
    "for word in texts_ko:\n",
    "    if str(word).split('/')[1] == 'Adjective\\']' or str(word).split('/')[1] == 'Noun\\']':    #형용사, 명사\n",
    "        noun_adj_list.append(word)\n",
    "        "
   ]
  },
  {
   "cell_type": "code",
   "execution_count": 78,
   "metadata": {},
   "outputs": [],
   "source": [
    "stop_adj = ['[\\'재밌다/Adjective\\']', '[\\'즐겁다/Adjective\\']','[\\'좋다/Adjective\\']','[\\'없다/Adjective\\']','[\\'있다/Adjective\\']',\n",
    "           '[\\'어떻다/Adjective\\']', '[\\'아니다/Adjective\\']', '[\\'재미있다/Adjective\\']', '[\\'좋다/Adjective\\']', '[\\'괜찮다/Adjective\\']',\n",
    "           '[\\'당연하다/Adjective\\']', '[\\'많다/Adjective\\']', '[\\'가능하다/Adjective\\']', '[\\'괜찮다/Adjective\\']', '[\\'같다/Adjective\\']',\n",
    "           '[\\'재미나다/Adjective\\']' , '[\\'부탁드리다/Adjective\\']' , '[\\'그렇다/Adjective\\']', '[\\'좋아하다/Adjective\\']', '[\\'재미나다/Adjective\\']', \n",
    "           '[\\'아깝다/Adjective\\']', '[\\'안되다/Adjective\\']', '[\\'전/Noun\\']', '[\\'과/Noun\\']', '[\\'분/Noun\\']', '[\\'앱/Noun\\']', '[\\'영어/Noun\\']',\n",
    "           '[\\'한글/Noun\\']', '[\\'여러분/Noun\\']', '[\\'다만/Noun\\']', '[\\'님들/Noun\\']', '[\\'다만/Noun\\']', '[\\'삭제/Noun\\']', '[\\'리뷰/Noun\\']',\n",
    "           '[\\'꼭/Noun\\']', '[\\'후/Noun\\']', '[\\'처럼/Noun\\']', '[\\'환불/Noun\\']']"
   ]
  },
  {
   "cell_type": "code",
   "execution_count": 79,
   "metadata": {},
   "outputs": [],
   "source": [
    "texts_ko = []\n",
    "for word in noun_adj_list:\n",
    "    if str(word) not in stop_adj:\n",
    "        texts_ko.append(word)"
   ]
  },
  {
   "cell_type": "code",
   "execution_count": 117,
   "metadata": {},
   "outputs": [
    {
     "name": "stdout",
     "output_type": "stream",
     "text": [
      "91197\n"
     ]
    }
   ],
   "source": [
    "print(len(texts_ko))"
   ]
  },
  {
   "cell_type": "code",
   "execution_count": 50,
   "metadata": {},
   "outputs": [],
   "source": [
    "#create id2word\n",
    "from gensim import corpora\n",
    "#dictionary_ko = corpora.Dictionary(texts_ko)\n",
    "dictionary_ko = corpora.Dictionary(result)\n",
    "#dictionary_ko.save(u'ko.dict')  # save dictionary to file for future use\n",
    "\n",
    "from gensim import models\n",
    "\n",
    "tf_ko = [dictionary_ko.doc2bow(text) for text in result]\n",
    "\n",
    "#tf_ko = [dictionary_ko.doc2bow(text) for text in texts_ko]\n",
    "tfidf_model_ko = models.TfidfModel(tf_ko)\n",
    "tfidf_ko = tfidf_model_ko[tf_ko]\n",
    "#corpora.MmCorpus.serialize('ko.mm', tfidf_ko) # save corpus to file for future use"
   ]
  },
  {
   "cell_type": "code",
   "execution_count": 135,
   "metadata": {},
   "outputs": [],
   "source": [
    "'''\n",
    "#create id2word\n",
    "from gensim import corpora\n",
    "dictionary_comm_ko = corpora.Dictionary(texts_comm_ko)\n",
    "#dictionary_ko.save(u'ko.dict')  # save dictionary to file for future use\n",
    "\n",
    "from gensim import models\n",
    "tf_comm_ko = [dictionary_ko.doc2bow(text) for text in texts_comm_ko]\n",
    "#tfidf_model_ko = models.TfidfModel(tf_ko)\n",
    "#tfidf_ko = tfidf_model_ko[tf_ko]\n",
    "#corpora.MmCorpus.serialize('ko.mm', tfidf_ko) # save corpus to file for future use\n",
    "'''"
   ]
  },
  {
   "cell_type": "code",
   "execution_count": 51,
   "metadata": {},
   "outputs": [
    {
     "name": "stdout",
     "output_type": "stream",
     "text": [
      "[(0, '0.029*\"귀여워요\" + 0.012*\"안젤라\" + 0.011*\"~~\" + 0.009*\"톰\" + 0.007*\"동생\"'),\n",
      " (1, '0.018*\"때우기\" + 0.013*\"~^^\" + 0.008*\"재미있음\" + 0.007*\"보내기\" + 0.005*\"해보세요\"'),\n",
      " (2, '0.013*\"중독\" + 0.011*\"좋아\" + 0.009*\"성\" + 0.009*\"재미있게\" + 0.007*\"ㅎ\"'),\n",
      " (3, '0.020*\"♡\" + 0.019*\"좋음\" + 0.016*\"고양이\" + 0.014*\"귀엽고\" + 0.011*\"\\uf44d\"'),\n",
      " (4, '0.009*\"♥\" + 0.008*\"심심할\" + 0.008*\"안젤라\" + 0.008*\"키우는\" + 0.007*\"!!!!\"')]\n"
     ]
    }
   ],
   "source": [
    "import numpy as np; np.random.seed(42)  # optional\n",
    "import pprint\n",
    "\n",
    "ntopics = 5\n",
    "nwords = 5\n",
    "\n",
    "lda_ko = models.ldamodel.LdaModel(tfidf_ko, id2word=dictionary_ko, num_topics=ntopics)\n",
    "pprint.pprint(lda_ko.print_topics(num_topics=ntopics, num_words=nwords))\n",
    "\n",
    "from gensim.models import word2vec\n",
    "wv_model_ko = word2vec.Word2Vec(result)\n",
    "\n",
    "#wv_model_ko = word2vec.Word2Vec(texts_ko)\n",
    "\n",
    "wv_model_ko.init_sims(replace=True)\n",
    "#wv_model_ko.save('ko_word2vec.model')\n"
   ]
  },
  {
   "cell_type": "code",
   "execution_count": null,
   "metadata": {},
   "outputs": [],
   "source": [
    "import gensim\n",
    "\n",
    "lda_model = gensim.models.ldamodel.LdaModel(corpus=tf_ko,\n",
    "id2word=dictionary_ko,\n",
    "num_topics=5,\n",
    "random_state=100,\n",
    "update_every=1,\n",
    "chunksize=100,\n",
    "passes=10,\n",
    "alpha='auto',\n",
    "per_word_topics=True)\n",
    "\n",
    "doc_lda = lda_model[tf_ko]\n",
    "import pprint\n",
    "\n",
    "pprint.pprint(lda_model.print_topics())\n"
   ]
  },
  {
   "cell_type": "code",
   "execution_count": 30,
   "metadata": {},
   "outputs": [
    {
     "name": "stdout",
     "output_type": "stream",
     "text": [
      "\n",
      "Perplexity:  -9.505759203958887\n",
      "\n",
      "Coherence Score:  0.8451273616031285\n"
     ]
    }
   ],
   "source": [
    "'''\n",
    "print('\\nPerplexity: ', lda_model.log_perplexity(tf_ko)) \n",
    "#모델난이도, 낮을수록 좋음\n",
    "\n",
    "coherence_model_lda = CoherenceModel(model=lda_model, texts=texts_ko, dictionary=dictionary_ko, coherence='c_v')\n",
    "coherence_lda = coherence_model_lda.get_coherence()\n",
    "print('\\nCoherence Score: ', coherence_lda)\n",
    "#일관성 점수\n",
    "'''"
   ]
  },
  {
   "cell_type": "code",
   "execution_count": 31,
   "metadata": {},
   "outputs": [
    {
     "data": {
      "text/html": [
       "\n",
       "<link rel=\"stylesheet\" type=\"text/css\" href=\"https://cdn.rawgit.com/bmabey/pyLDAvis/files/ldavis.v1.0.0.css\">\n",
       "\n",
       "\n",
       "<div id=\"ldavis_el156351059198245607627573\"></div>\n",
       "<script type=\"text/javascript\">\n",
       "\n",
       "var ldavis_el156351059198245607627573_data = {\"mdsDat\": {\"x\": [0.30386689020939267, -0.07064868923325072, -0.08241813845885415, -0.06874497238436954, -0.08205509013291852], \"y\": [-0.002756084841760632, 0.03436107664272892, -0.223378603532795, 0.04437228037253365, 0.14740133135929295], \"topics\": [1, 2, 3, 4, 5], \"cluster\": [1, 1, 1, 1, 1], \"Freq\": [33.43166732788086, 17.38282585144043, 17.224061965942383, 16.590190887451172, 15.371246337890625]}, \"tinfo\": {\"Category\": [\"Default\", \"Default\", \"Default\", \"Default\", \"Default\", \"Default\", \"Default\", \"Default\", \"Default\", \"Default\", \"Default\", \"Default\", \"Default\", \"Default\", \"Default\", \"Default\", \"Default\", \"Default\", \"Default\", \"Default\", \"Default\", \"Default\", \"Default\", \"Default\", \"Default\", \"Default\", \"Default\", \"Default\", \"Default\", \"Default\", \"Topic1\", \"Topic1\", \"Topic1\", \"Topic1\", \"Topic1\", \"Topic1\", \"Topic1\", \"Topic1\", \"Topic1\", \"Topic1\", \"Topic1\", \"Topic1\", \"Topic1\", \"Topic1\", \"Topic1\", \"Topic1\", \"Topic1\", \"Topic1\", \"Topic1\", \"Topic1\", \"Topic1\", \"Topic1\", \"Topic1\", \"Topic1\", \"Topic1\", \"Topic1\", \"Topic1\", \"Topic1\", \"Topic1\", \"Topic1\", \"Topic1\", \"Topic2\", \"Topic2\", \"Topic2\", \"Topic2\", \"Topic2\", \"Topic2\", \"Topic2\", \"Topic2\", \"Topic2\", \"Topic2\", \"Topic2\", \"Topic2\", \"Topic2\", \"Topic2\", \"Topic2\", \"Topic2\", \"Topic2\", \"Topic2\", \"Topic2\", \"Topic2\", \"Topic2\", \"Topic2\", \"Topic2\", \"Topic2\", \"Topic2\", \"Topic2\", \"Topic2\", \"Topic2\", \"Topic2\", \"Topic2\", \"Topic2\", \"Topic3\", \"Topic3\", \"Topic3\", \"Topic3\", \"Topic3\", \"Topic3\", \"Topic3\", \"Topic3\", \"Topic3\", \"Topic3\", \"Topic3\", \"Topic3\", \"Topic3\", \"Topic3\", \"Topic3\", \"Topic3\", \"Topic3\", \"Topic3\", \"Topic3\", \"Topic3\", \"Topic3\", \"Topic3\", \"Topic3\", \"Topic3\", \"Topic3\", \"Topic3\", \"Topic3\", \"Topic3\", \"Topic3\", \"Topic3\", \"Topic3\", \"Topic3\", \"Topic3\", \"Topic4\", \"Topic4\", \"Topic4\", \"Topic4\", \"Topic4\", \"Topic4\", \"Topic4\", \"Topic4\", \"Topic4\", \"Topic4\", \"Topic4\", \"Topic4\", \"Topic4\", \"Topic4\", \"Topic4\", \"Topic4\", \"Topic4\", \"Topic4\", \"Topic4\", \"Topic4\", \"Topic4\", \"Topic4\", \"Topic4\", \"Topic4\", \"Topic4\", \"Topic4\", \"Topic4\", \"Topic4\", \"Topic4\", \"Topic4\", \"Topic4\", \"Topic4\", \"Topic5\", \"Topic5\", \"Topic5\", \"Topic5\", \"Topic5\", \"Topic5\", \"Topic5\", \"Topic5\", \"Topic5\", \"Topic5\", \"Topic5\", \"Topic5\", \"Topic5\", \"Topic5\", \"Topic5\", \"Topic5\", \"Topic5\", \"Topic5\", \"Topic5\", \"Topic5\", \"Topic5\", \"Topic5\", \"Topic5\", \"Topic5\", \"Topic5\", \"Topic5\", \"Topic5\", \"Topic5\", \"Topic5\", \"Topic5\", \"Topic5\", \"Topic5\"], \"Freq\": [1435.0, 1407.0, 1731.0, 924.0, 787.0, 776.0, 608.0, 560.0, 537.0, 514.0, 475.0, 474.0, 450.0, 414.0, 422.0, 639.0, 394.0, 383.0, 361.0, 350.0, 344.0, 348.0, 329.0, 327.0, 323.0, 527.0, 300.0, 308.0, 294.0, 281.0, 1730.9920654296875, 638.7446899414062, 467.1017761230469, 426.4745178222656, 338.9892578125, 415.76177978515625, 306.04071044921875, 280.6795654296875, 278.648193359375, 286.0753173828125, 526.1011962890625, 269.29937744140625, 264.15423583984375, 258.0819091796875, 226.40867614746094, 224.56407165527344, 216.4728546142578, 208.81764221191406, 199.68917846679688, 195.3773956298828, 178.42788696289062, 176.2499542236328, 171.43325805664062, 176.1027069091797, 166.90444946289062, 154.5361785888672, 154.06471252441406, 157.08604431152344, 150.83938598632812, 179.11746215820312, 218.1880340576172, 776.0060424804688, 536.2481689453125, 450.0089111328125, 421.8918151855469, 360.87310791015625, 328.99432373046875, 327.1609191894531, 270.52117919921875, 248.5058135986328, 225.24429321289062, 187.7263641357422, 186.98167419433594, 177.2633056640625, 164.4199981689453, 145.08084106445312, 140.23171997070312, 141.0927734375, 149.8500518798828, 135.24253845214844, 133.12525939941406, 136.55931091308594, 129.1818389892578, 123.03665924072266, 123.4388656616211, 118.96585845947266, 111.7568588256836, 111.47734069824219, 108.62664031982422, 108.4218978881836, 101.68901062011719, 216.1892852783203, 1407.043701171875, 513.3807983398438, 393.4857177734375, 347.81805419921875, 323.0047912597656, 281.3792419433594, 290.4286193847656, 277.42425537109375, 239.07568359375, 236.0929718017578, 214.9779815673828, 204.52346801757812, 214.15280151367188, 188.89071655273438, 184.57171630859375, 177.53053283691406, 168.3516082763672, 150.3384246826172, 133.98170471191406, 132.77503967285156, 125.92716217041016, 127.75174713134766, 122.86619567871094, 115.85118103027344, 117.65725708007812, 111.47191619873047, 110.22004699707031, 95.8380355834961, 94.29776763916016, 91.03340148925781, 94.66473388671875, 215.9174041748047, 97.86331939697266, 923.4215087890625, 560.24462890625, 474.1379089355469, 382.4937438964844, 349.28729248046875, 344.01849365234375, 307.65704345703125, 293.33935546875, 199.22476196289062, 178.91744995117188, 171.0474853515625, 157.06463623046875, 154.63168334960938, 146.10557556152344, 134.20925903320312, 127.86952209472656, 128.9042205810547, 127.06980895996094, 121.79967498779297, 117.20446014404297, 114.03984832763672, 114.36268615722656, 108.81007385253906, 102.0282211303711, 102.04720306396484, 107.89928436279297, 96.2929458618164, 86.21922302246094, 88.1473159790039, 227.689697265625, 86.91703796386719, 98.32402801513672, 1434.5218505859375, 787.0144653320312, 608.095947265625, 474.5117492675781, 413.3190612792969, 299.7788391113281, 281.0916442871094, 256.14874267578125, 232.66590881347656, 196.46505737304688, 187.30584716796875, 180.30865478515625, 163.11627197265625, 156.55763244628906, 154.12161254882812, 146.84767150878906, 144.20265197753906, 133.74827575683594, 121.04618835449219, 112.60195922851562, 102.7415771484375, 100.92672729492188, 96.20979309082031, 88.16171264648438, 81.25892639160156, 84.56497955322266, 82.5395278930664, 63.73350524902344, 65.74274444580078, 60.04621887207031, 73.91593933105469, 67.6198501586914], \"Term\": [\"\\ub3c8/Noun\", \"\\ub9f5/Noun\", \"\\uadf8\\ub798\\ud53d/Noun\", \"\\uc544\\uae5d\\ub2e4/Adjective\", \"\\ud658\\ubd88/Noun\", \"\\ubbf8\\uc158/Noun\", \"\\ubb34\\ub8cc/Noun\", \"\\ub300\\ubc15/Noun\", \"\\ud604\\uc9c8/Noun\", \"\\uad6c\\ub9e4/Noun\", \"\\uc5b4\\ub835\\ub2e4/Adjective\", \"\\ub2e4\\uc6b4\\ub85c\\ub4dc/Noun\", \"\\ucc98\\uc74c/Noun\", \"\\ucd94\\ucc9c/Noun\", \"\\uac1c\\uafc0/Noun\", \"\\uc548\\ub418\\ub2e4/Adjective\", \"\\uc544\\uc27d\\ub2e4/Adjective\", \"\\uac00\\uaca9/Noun\", \"\\uac9c/Noun\", \"\\uc88b\\uc544\\ud558\\ub2e4/Adjective\", \"\\ud55c\\uae00/Noun\", \"\\uc904/Noun\", \"\\ubd84/Noun\", \"\\uc720\\ub8cc/Noun\", \"\\uc81c\\uc791\\uc790/Noun\", \"\\ucd1d/Noun\", \"\\uacfc/Noun\", \"\\ubaa8\\ubc14\\uc77c/Noun\", \"\\ud55c\\uad6d\\uc5b4/Noun\", \"\\uac10/Noun\", \"\\uadf8\\ub798\\ud53d/Noun\", \"\\uc548\\ub418\\ub2e4/Adjective\", \"\\ud004\\ub9ac\\ud2f0/Noun\", \"\\ub809/Noun\", \"\\uc2a4\\ud1a0\\ub9ac/Noun\", \"\\uc800\\uaca9/Noun\", \"\\ubcc4/Noun\", \"\\uacb0\\uc81c/Noun\", \"\\ub09c\\uc774\\ub3c4/Noun\", \"\\uba85\\uc791/Noun\", \"\\ucd1d/Noun\", \"\\uac78/Noun\", \"\\uc5b8\\uc81c/Noun\", \"\\uc624\\ub958/Noun\", \"\\uc774\\uc81c/Noun\", \"\\uc9c4\\uc2ec/Noun\", \"\\uc9e7\\ub2e4/Adjective\", \"\\ucee8\\ud2b8\\ub864/Noun\", \"\\uc9c4\\ud589/Noun\", \"\\uc2dc\\ub9ac\\uc988/Noun\", \"\\ucc98\\ub7fc/Noun\", \"\\uc77c\\ub2e8/Noun\", \"\\ub2e4\\uc74c/Noun\", \"\\ubaa8\\ub4dc/Noun\", \"\\uac74\\uac00/Noun\", \"\\uc57d\\uac04/Noun\", \"\\ub09c/Noun\", \"\\ub9c1/Noun\", \"\\uae30\\ub300\\ud558\\ub2e4/Adjective\", \"\\uacf5\\uc9dc/Noun\", \"\\ubcf4\\uc2a4/Noun\", \"\\ubbf8\\uc158/Noun\", \"\\ud604\\uc9c8/Noun\", \"\\ucc98\\uc74c/Noun\", \"\\uac1c\\uafc0/Noun\", \"\\uac9c/Noun\", \"\\ubd84/Noun\", \"\\uc720\\ub8cc/Noun\", \"\\uc804/Noun\", \"\\ud6c4\\ud68c/Noun\", \"\\ub9ac\\ubdf0/Noun\", \"\\ubcf4\\uace0/Noun\", \"\\uc124\\uba85/Noun\", \"\\uc774\\ub098/Noun\", \"\\uce5c\\uad6c/Noun\", \"\\uc218\\uc815/Noun\", \"\\ud654\\uba74/Noun\", \"\\ub4dc/Noun\", \"\\uac04\\ub2e8\\ud558\\ub2e4/Adjective\", \"\\uc804\\ubd80/Noun\", \"\\ub2e4\\ub9cc/Noun\", \"\\uc6a9\\ub7c9/Noun\", \"\\ubd80\\uc871\\ud558\\ub2e4/Adjective\", \"\\ub9c8\\uc74c/Noun\", \"\\uc774\\uc0c1\\ud558\\ub2e4/Adjective\", \"\\ud558\\ub2c8/Noun\", \"\\ud558\\ub098\\uc694/Noun\", \"\\uc81c\\uc77c/Noun\", \"\\ubc84\\uadf8/Noun\", \"\\uc5ec\\ub7ec\\ubd84/Noun\", \"\\uc9d1\\uc911/Noun\", \"\\ub9e8/Noun\", \"\\ub9f5/Noun\", \"\\uad6c\\ub9e4/Noun\", \"\\uc544\\uc27d\\ub2e4/Adjective\", \"\\uc904/Noun\", \"\\uc81c\\uc791\\uc790/Noun\", \"\\uc601\\uc5b4/Noun\", \"\\uc870\\uc791/Noun\", \"\\uaf2d/Noun\", \"\\ub85c\\ub529/Noun\", \"\\ub2e4\\uc591\\ud558\\ub2e4/Adjective\", \"\\ubd80\\ud130/Noun\", \"\\ubc84\\uc804/Noun\", \"\\uc720\\ub3c4/Noun\", \"\\ub290\\ub08c/Noun\", \"\\uc6a9/Noun\", \"\\uc124\\uce58/Noun\", \"\\ub0a8/Noun\", \"\\ubaa8\\ub450/Noun\", \"\\uba87/Noun\", \"\\uc774\\uc0c1/Noun\", \"\\ud544\\uc694\\ud558\\ub2e4/Adjective\", \"\\uc870/Noun\", \"\\uc74c/Noun\", \"\\ucd5c\\uace0\\ub2e4/Noun\", \"\\uac70\\uc9c0/Noun\", \"\\ud310/Noun\", \"\\ubc84\\ud2bc/Noun\", \"\\ud6cc\\ub96d\\ud558\\ub2e4/Adjective\", \"\\uc644\\ubcbd\\ud558\\ub2e4/Adjective\", \"\\uc5ec/Noun\", \"\\uc2e0/Noun\", \"\\ud0c0/Noun\", \"\\uc2a4\\ud30c\\uc774\\ub354\\ub9e8/Noun\", \"\\uc544\\uae5d\\ub2e4/Adjective\", \"\\ub300\\ubc15/Noun\", \"\\ub2e4\\uc6b4\\ub85c\\ub4dc/Noun\", \"\\uac00\\uaca9/Noun\", \"\\uc88b\\uc544\\ud558\\ub2e4/Adjective\", \"\\ud55c\\uae00/Noun\", \"\\ubaa8\\ubc14\\uc77c/Noun\", \"\\ud55c\\uad6d\\uc5b4/Noun\", \"\\ub2e4\\uc6b4/Noun\", \"\\uc0c8\\ub86d\\ub2e4/Adjective\", \"\\ud074\\ub9ac\\uc5b4/Noun\", \"\\uc131/Noun\", \"\\uac15\\ucd94/Noun\", \"\\uac00\\uc7a5/Noun\", \"\\ube44\\uc2f8\\ub2e4/Adjective\", \"\\ud55c\\ubc88/Noun\", \"\\uae30/Noun\", \"\\ub300\\ub2e8\\ud558\\ub2e4/Adjective\", \"\\ubcf5\\uad6c/Noun\", \"\\uc624\\ub298/Noun\", \"\\uacf3/Noun\", \"\\uc544\\uc544/Noun\", \"\\ubcc4\\ub85c/Noun\", \"\\ubb34\\uc870\\uac74/Noun\", \"\\uad6c\\uae00/Noun\", \"\\ubc09\\ub2e4/Adjective\", \"\\uac1c\\uc778/Noun\", \"\\uac00\\ub054/Noun\", \"\\ud558\\ub77c/Noun\", \"\\ud37c\\uc990/Noun\", \"\\ubc1c/Noun\", \"\\uc2a4\\ub098\\uc774\\ud37c/Noun\", \"\\ub3c8/Noun\", \"\\ud658\\ubd88/Noun\", \"\\ubb34\\ub8cc/Noun\", \"\\uc5b4\\ub835\\ub2e4/Adjective\", \"\\ucd94\\ucc9c/Noun\", \"\\uacfc/Noun\", \"\\uac10/Noun\", \"\\uc640\\uc6b0/Noun\", \"\\uae30\\ub300/Noun\", \"\\uc138/Noun\", \"\\uc0ad\\uc81c/Noun\", \"\\ubc14\\ub85c/Noun\", \"\\uc2ec\\ud558\\ub2e4/Adjective\", \"\\ud6c4/Noun\", \"\\ub9c8\\uc9c0\\ub9c9/Noun\", \"\\uc2dc\\uc791/Noun\", \"\\uc720\\uc800/Noun\", \"\\uc5ec\\ub7ec/Noun\", \"\\uc608\\uc804/Noun\", \"\\uc0b4\\uc9dd/Noun\", \"\\uac70\\uc758/Noun\", \"\\ubd80\\ud0c1/Noun\", \"\\ub9c8\\ub2e4/Noun\", \"\\uc6d0\\ub798/Noun\", \"\\uc911\\uac04/Noun\", \"\\uc2a4\\ub9b4/Noun\", \"\\uc8fc\\uc2dc/Noun\", \"\\uc774\\uc720/Noun\", \"\\ud56d\\uc0c1/Noun\", \"\\uc6d0\\ud558\\ub2e4/Adjective\", \"\\uc2a4\\ub098\\uc774\\ud37c/Noun\", \"\\uc2a4\\ud30c\\uc774\\ub354\\ub9e8/Noun\"], \"Total\": [1435.0, 1407.0, 1731.0, 924.0, 787.0, 776.0, 608.0, 560.0, 537.0, 514.0, 475.0, 474.0, 450.0, 414.0, 422.0, 639.0, 394.0, 383.0, 361.0, 350.0, 344.0, 348.0, 329.0, 327.0, 323.0, 527.0, 300.0, 308.0, 294.0, 281.0, 1731.744873046875, 639.4902954101562, 467.8425598144531, 427.2310485839844, 339.7302551269531, 416.7412109375, 306.777099609375, 281.4164733886719, 279.38446044921875, 286.8363037109375, 527.5223999023438, 270.0415344238281, 264.8898010253906, 258.8341979980469, 227.15167236328125, 225.30386352539062, 217.2023468017578, 209.58316040039062, 200.43240356445312, 196.10870361328125, 179.17218017578125, 176.99810791015625, 172.16734313964844, 176.86424255371094, 167.65313720703125, 155.27720642089844, 154.80471801757812, 157.8468780517578, 151.57940673828125, 179.99717712402344, 223.32485961914062, 776.8241577148438, 537.024658203125, 450.7575988769531, 422.6455383300781, 361.6278076171875, 329.7423095703125, 327.9176025390625, 271.26409912109375, 249.25489807128906, 225.9947052001953, 188.47079467773438, 187.7277374267578, 178.01657104492188, 165.1959686279297, 145.84829711914062, 140.9866943359375, 141.8599090576172, 150.666748046875, 135.99554443359375, 133.86911010742188, 137.3452911376953, 129.95806884765625, 123.7896957397461, 124.21886444091797, 119.72956848144531, 112.5049057006836, 112.23406982421875, 109.37122344970703, 109.18760681152344, 102.44144439697266, 217.79803466796875, 1407.818359375, 514.131591796875, 394.236083984375, 348.57318115234375, 323.7596435546875, 282.1216735839844, 291.20233154296875, 278.17425537109375, 239.86190795898438, 236.87937927246094, 215.72962951660156, 205.2684326171875, 214.9556884765625, 189.6493377685547, 185.35128784179688, 178.30459594726562, 169.12013244628906, 151.0923309326172, 134.72775268554688, 133.5352783203125, 126.68003845214844, 128.5238037109375, 123.64192199707031, 116.60201263427734, 118.43600463867188, 112.21913146972656, 111.05157470703125, 96.59993743896484, 95.05218505859375, 91.81163024902344, 95.5015640258789, 225.779541015625, 433.2783508300781, 924.1531372070312, 560.981201171875, 474.8782653808594, 383.2337951660156, 350.022705078125, 344.75244140625, 308.3954162597656, 294.0820617675781, 199.98106384277344, 179.66378784179688, 171.77975463867188, 157.80120849609375, 155.36300659179688, 146.8482208251953, 134.9473876953125, 128.6029815673828, 129.64845275878906, 127.80711364746094, 122.5371322631836, 117.94590759277344, 114.78699493408203, 115.13691711425781, 109.55789947509766, 102.76023864746094, 102.79867553710938, 108.72396850585938, 97.0469741821289, 86.96166229248047, 88.90657806396484, 229.7179718017578, 92.2718505859375, 426.91619873046875, 1435.2685546875, 787.7681884765625, 608.8965454101562, 475.25433349609375, 414.0749206542969, 300.5237121582031, 281.84478759765625, 256.9124755859375, 233.4084930419922, 197.21633911132812, 188.05809020996094, 181.0490264892578, 163.8907928466797, 157.30105590820312, 154.87301635742188, 147.5946502685547, 145.0061492919922, 134.51077270507812, 121.80723571777344, 113.36164093017578, 103.49678039550781, 101.67919921875, 96.95780181884766, 88.91576385498047, 82.00123596191406, 85.34519958496094, 83.46669006347656, 64.4855728149414, 66.53453063964844, 60.79185485839844, 426.91619873046875, 433.2783508300781], \"loglift\": [30.0, 29.0, 28.0, 27.0, 26.0, 25.0, 24.0, 23.0, 22.0, 21.0, 20.0, 19.0, 18.0, 17.0, 16.0, 15.0, 14.0, 13.0, 12.0, 11.0, 10.0, 9.0, 8.0, 7.0, 6.0, 5.0, 4.0, 3.0, 2.0, 1.0, 1.0951999425888062, 1.094499945640564, 1.094099998474121, 1.0938999652862549, 1.093500018119812, 1.0932999849319458, 1.0932999849319458, 1.093000054359436, 1.093000054359436, 1.093000054359436, 1.093000054359436, 1.092900037765503, 1.092900037765503, 1.0928000211715698, 1.0923999547958374, 1.0923999547958374, 1.0923000574111938, 1.0920000076293945, 1.0920000076293945, 1.0918999910354614, 1.0915000438690186, 1.0914000272750854, 1.0914000272750854, 1.0914000272750854, 1.0911999940872192, 1.09089994430542, 1.09089994430542, 1.0908000469207764, 1.0908000469207764, 1.0908000469207764, 1.0723999738693237, 1.7486000061035156, 1.7482000589370728, 1.7480000257492065, 1.7479000091552734, 1.7475999593734741, 1.7474000453948975, 1.7474000453948975, 1.746899962425232, 1.7467000484466553, 1.746399998664856, 1.7457000017166138, 1.7457000017166138, 1.7453999519348145, 1.7450000047683716, 1.7444000244140625, 1.7443000078201294, 1.7443000078201294, 1.7443000078201294, 1.7440999746322632, 1.7440999746322632, 1.743899941444397, 1.7437000274658203, 1.7436000108718872, 1.743399977684021, 1.743299961090088, 1.7430000305175781, 1.742900013923645, 1.742900013923645, 1.7425999641418457, 1.742300033569336, 1.742300033569336, 1.7582999467849731, 1.7574000358581543, 1.7569999694824219, 1.756700038909912, 1.756500005722046, 1.7561999559402466, 1.7561999559402466, 1.7561999559402466, 1.7555999755859375, 1.7554999589920044, 1.7553999423980713, 1.7552000284194946, 1.7551000118255615, 1.7548999786376953, 1.7546000480651855, 1.7545000314712524, 1.7542999982833862, 1.7539000511169434, 1.7532999515533447, 1.7532000541687012, 1.7529000043869019, 1.7527999877929688, 1.7525999546051025, 1.7524000406265259, 1.7523000240325928, 1.7522000074386597, 1.7512999773025513, 1.7509000301361084, 1.7509000301361084, 1.7503999471664429, 1.750100016593933, 1.7142000198364258, 0.2711000144481659, 1.7956000566482544, 1.7949999570846558, 1.794800043106079, 1.7943999767303467, 1.7942999601364136, 1.7941999435424805, 1.7940000295639038, 1.7937999963760376, 1.7926000356674194, 1.792199969291687, 1.792099952697754, 1.791700005531311, 1.791599988937378, 1.7913000583648682, 1.7908999919891357, 1.7905999422073364, 1.7905999422073364, 1.7905999422073364, 1.7903000116348267, 1.7900999784469604, 1.7898000478744507, 1.7896000146865845, 1.7894999980926514, 1.789199948310852, 1.7890000343322754, 1.788699984550476, 1.788599967956543, 1.7877999544143677, 1.7877999544143677, 1.787500023841858, 1.7366000413894653, 0.328000009059906, 1.8722000122070312, 1.8717000484466553, 1.871399998664856, 1.8710999488830566, 1.8708000183105469, 1.8702000379562378, 1.8700000047683716, 1.8696999549865723, 1.8695000410079956, 1.868899941444397, 1.8687000274658203, 1.8686000108718872, 1.867900013923645, 1.867900013923645, 1.867799997329712, 1.8675999641418457, 1.8671000003814697, 1.8669999837875366, 1.8664000034332275, 1.8659000396728516, 1.8653000593185425, 1.8652000427246094, 1.86489999294281, 1.8641999959945679, 1.8636000156402588, 1.8634999990463257, 1.8615000247955322, 1.8609000444412231, 1.860700011253357, 1.8602999448776245, 0.11900000274181366, 0.015200000256299973], \"logprob\": [30.0, 29.0, 28.0, 27.0, 26.0, 25.0, 24.0, 23.0, 22.0, 21.0, 20.0, 19.0, 18.0, 17.0, 16.0, 15.0, 14.0, 13.0, 12.0, 11.0, 10.0, 9.0, 8.0, 7.0, 6.0, 5.0, 4.0, 3.0, 2.0, 1.0, -2.9560000896453857, -3.953000068664551, -4.265999794006348, -4.356900215148926, -4.58650016784668, -4.382400035858154, -4.688799858093262, -4.775300025939941, -4.78249979019165, -4.756199836730957, -4.146999835968018, -4.816699981689453, -4.835999965667725, -4.8592000007629395, -4.990200042724609, -4.998300075531006, -5.034999847412109, -5.071000099182129, -5.115699768066406, -5.137599945068359, -5.228300094604492, -5.240600109100342, -5.2683000564575195, -5.241399765014648, -5.295100212097168, -5.372099876403809, -5.375100135803223, -5.3557000160217285, -5.396299839019775, -5.2245001792907715, -5.027100086212158, -3.104300022125244, -3.473900079727173, -3.649199962615967, -3.71370005607605, -3.869999885559082, -3.962399959564209, -3.9679999351501465, -4.158100128173828, -4.243000030517578, -4.341300010681152, -4.523499965667725, -4.527500152587891, -4.5808000564575195, -4.656099796295166, -4.781199932098389, -4.815199851989746, -4.809100151062012, -4.748799800872803, -4.851399898529053, -4.867199897766113, -4.841700077056885, -4.897299766540527, -4.946000099182129, -4.942699909210205, -4.979599952697754, -5.042200088500977, -5.0447001457214355, -5.0706000328063965, -5.072400093078613, -5.136600017547607, -4.382299900054932, -2.5000998973846436, -3.5083000659942627, -3.7743000984191895, -3.897599935531616, -3.97160005569458, -4.109600067138672, -4.077899932861328, -4.123799800872803, -4.272500038146973, -4.285099983215332, -4.378799915313721, -4.428599834442139, -4.382599830627441, -4.5081000328063965, -4.531300067901611, -4.570199966430664, -4.623199939727783, -4.736400127410889, -4.851600170135498, -4.860599994659424, -4.913599967956543, -4.899199962615967, -4.938199996948242, -4.997000217437744, -4.981500148773193, -5.0355000495910645, -5.046800136566162, -5.186600208282471, -5.2027997970581055, -5.238100051879883, -5.198999881744385, -4.3744001388549805, -5.1656999588012695, -2.883699893951416, -3.3833999633789062, -3.550299882888794, -3.7651000022888184, -3.8559000492095947, -3.8710999488830566, -3.982800006866455, -4.0304999351501465, -4.417399883270264, -4.524899959564209, -4.569900035858154, -4.655099868774414, -4.67080020904541, -4.727499961853027, -4.812399864196777, -4.860799789428711, -4.852700233459473, -4.867099761962891, -4.90939998626709, -4.94789981842041, -4.975299835205078, -4.972400188446045, -5.022200107574463, -5.086599826812744, -5.086400032043457, -5.030600070953369, -5.144400119781494, -5.254899978637695, -5.232800006866455, -4.28380012512207, -5.2469000816345215, -5.123499870300293, -2.3668999671936035, -2.9672000408172607, -3.2251999378204346, -3.4732000827789307, -3.611299991607666, -3.9323999881744385, -3.996799945831299, -4.089700222015381, -4.1859002113342285, -4.355000019073486, -4.4028000831604, -4.440800189971924, -4.540999889373779, -4.582099914550781, -4.597799777984619, -4.646100044250488, -4.664299964904785, -4.739500045776367, -4.839300155639648, -4.911600112915039, -5.003300189971924, -5.021100044250488, -5.068999767303467, -5.156300067901611, -5.2378997802734375, -5.197999954223633, -5.2221999168396, -5.480800151824951, -5.449699878692627, -5.54040002822876, -5.332600116729736, -5.421599864959717]}, \"token.table\": {\"Topic\": [4, 4, 4, 2, 5, 4, 2, 4, 5, 3, 1, 1, 2, 1, 4, 1, 5, 4, 3, 1, 4, 5, 1, 3, 1, 1, 3, 3, 2, 3, 4, 4, 1, 4, 4, 5, 2, 1, 3, 2, 1, 5, 2, 5, 2, 3, 1, 3, 3, 1, 4, 5, 4, 2, 4, 5, 1, 2, 3, 4, 5, 2, 3, 3, 1, 4, 2, 1, 2, 3, 4, 5, 4, 2, 5, 3, 2, 4, 5, 5, 4, 2, 3, 4, 5, 2, 1, 2, 3, 4, 5, 5, 1, 1, 2, 3, 4, 5, 1, 5, 3, 5, 4, 3, 4, 1, 1, 5, 1, 3, 5, 2, 3, 5, 4, 1, 5, 3, 3, 2, 5, 5, 3, 2, 5, 3, 2, 3, 2, 5, 1, 1, 1, 2, 2, 2, 3, 3, 3, 4, 5, 3, 5, 1, 1, 2, 1, 1, 2, 1, 3, 5, 2, 1, 1, 4, 1, 2, 3, 4, 5, 3, 1, 3, 4, 3, 2, 2, 4, 4, 4, 4, 5, 2, 2, 5, 5, 2, 3], \"Freq\": [0.9967805743217468, 0.9889415502548218, 0.9942238330841064, 0.9955747127532959, 0.9970026612281799, 0.9976634979248047, 0.9984726309776306, 0.9892116785049438, 0.9952000379562378, 0.9963186383247375, 0.9961042404174805, 0.9961430430412292, 0.998263955116272, 0.9985200762748718, 0.9931438565254211, 0.9944600462913513, 0.9982573390007019, 0.9922306537628174, 0.9977990388870239, 0.9995698928833008, 0.9949983954429626, 0.998249888420105, 0.9961775541305542, 0.9957786798477173, 0.9948017001152039, 0.9986239075660706, 0.9933767318725586, 0.9965761303901672, 0.9935077428817749, 0.9962876439094543, 0.9950942397117615, 0.9981505274772644, 0.9932197332382202, 0.9936848878860474, 0.9982509016990662, 0.99981290102005, 0.9939383268356323, 0.9971185326576233, 0.9964066743850708, 0.995598554611206, 0.9946348071098328, 0.9901214838027954, 0.9936206936836243, 0.994363009929657, 0.9917444586753845, 0.9994186758995056, 0.997084379196167, 0.9945983290672302, 0.9927704334259033, 0.9951135516166687, 0.9987178444862366, 0.9985275864601135, 0.9926018118858337, 0.9989390969276428, 0.9933412075042725, 0.9942058324813843, 0.010837540961802006, 0.010837540961802006, 0.010837540961802006, 0.9428660869598389, 0.010837540961802006, 0.9966058135032654, 0.9986922740936279, 0.9905307292938232, 0.9974668622016907, 0.9949077367782593, 0.9975020289421082, 0.9761564135551453, 0.00447778170928359, 0.00447778170928359, 0.00447778170928359, 0.00447778170928359, 0.9956165552139282, 0.9926278591156006, 0.9933201670646667, 0.99661785364151, 0.9977487921714783, 0.9929795861244202, 0.994373619556427, 0.9968098402023315, 0.9963054060935974, 0.9961234331130981, 0.9982917308807373, 0.9949226975440979, 0.9938324689865112, 0.9941837191581726, 0.20378707349300385, 0.18973278999328613, 0.20378707349300385, 0.2295532524585724, 0.17333613336086273, 0.995955228805542, 0.9978504776954651, 0.21464261412620544, 0.22618255019187927, 0.22618255019187927, 0.17540687322616577, 0.15694299340248108, 0.9943464994430542, 0.9959710836410522, 0.9947481155395508, 0.9945647120475769, 0.998752236366272, 0.9968646168708801, 0.9901255369186401, 0.9992333054542542, 0.9982147812843323, 0.9994648694992065, 0.9966408610343933, 0.9911598563194275, 0.9962027668952942, 0.9891232252120972, 0.9960241317749023, 0.9933728575706482, 0.9919801354408264, 0.9967771172523499, 0.996448278427124, 0.9889304637908936, 0.9981047511100769, 0.9974859356880188, 0.9897007942199707, 0.98697429895401, 0.9955540299415588, 0.9972017407417297, 0.9930613040924072, 0.9948081970214844, 0.9942894577980042, 0.9959914684295654, 0.9901877641677856, 0.9924700260162354, 0.9949299693107605, 0.9943609237670898, 0.9982213973999023, 0.9990264177322388, 0.9926795959472656, 0.9890044927597046, 0.9976536631584167, 0.9959244728088379, 0.9958711266517639, 0.9970781803131104, 0.9944086670875549, 0.9983556270599365, 0.9877899885177612, 0.9986513257026672, 0.9978426694869995, 0.9956907629966736, 0.9944643974304199, 0.9934577941894531, 0.9983192682266235, 0.9971140623092651, 0.9948370456695557, 0.9974040389060974, 0.9927603006362915, 0.9972175359725952, 0.9981990456581116, 0.9954607486724854, 0.013287297450006008, 0.013287297450006008, 0.9566854238510132, 0.008858198300004005, 0.008858198300004005, 0.9891361594200134, 0.00435316376388073, 0.00435316376388073, 0.9925214052200317, 0.994631826877594, 0.9955121278762817, 0.993906557559967, 0.9898030161857605, 0.9963205456733704, 0.9978174567222595, 0.9953113198280334, 0.9919661283493042, 0.998091995716095, 0.9930015206336975, 0.9990248680114746, 0.9980860948562622, 0.9989773631095886, 0.9937894344329834], \"Term\": [\"\\uac00\\uaca9/Noun\", \"\\uac00\\ub054/Noun\", \"\\uac00\\uc7a5/Noun\", \"\\uac04\\ub2e8\\ud558\\ub2e4/Adjective\", \"\\uac10/Noun\", \"\\uac15\\ucd94/Noun\", \"\\uac1c\\uafc0/Noun\", \"\\uac1c\\uc778/Noun\", \"\\uac70\\uc758/Noun\", \"\\uac70\\uc9c0/Noun\", \"\\uac74\\uac00/Noun\", \"\\uac78/Noun\", \"\\uac9c/Noun\", \"\\uacb0\\uc81c/Noun\", \"\\uacf3/Noun\", \"\\uacf5\\uc9dc/Noun\", \"\\uacfc/Noun\", \"\\uad6c\\uae00/Noun\", \"\\uad6c\\ub9e4/Noun\", \"\\uadf8\\ub798\\ud53d/Noun\", \"\\uae30/Noun\", \"\\uae30\\ub300/Noun\", \"\\uae30\\ub300\\ud558\\ub2e4/Adjective\", \"\\uaf2d/Noun\", \"\\ub09c/Noun\", \"\\ub09c\\uc774\\ub3c4/Noun\", \"\\ub0a8/Noun\", \"\\ub290\\ub08c/Noun\", \"\\ub2e4\\ub9cc/Noun\", \"\\ub2e4\\uc591\\ud558\\ub2e4/Adjective\", \"\\ub2e4\\uc6b4/Noun\", \"\\ub2e4\\uc6b4\\ub85c\\ub4dc/Noun\", \"\\ub2e4\\uc74c/Noun\", \"\\ub300\\ub2e8\\ud558\\ub2e4/Adjective\", \"\\ub300\\ubc15/Noun\", \"\\ub3c8/Noun\", \"\\ub4dc/Noun\", \"\\ub809/Noun\", \"\\ub85c\\ub529/Noun\", \"\\ub9ac\\ubdf0/Noun\", \"\\ub9c1/Noun\", \"\\ub9c8\\ub2e4/Noun\", \"\\ub9c8\\uc74c/Noun\", \"\\ub9c8\\uc9c0\\ub9c9/Noun\", \"\\ub9e8/Noun\", \"\\ub9f5/Noun\", \"\\uba85\\uc791/Noun\", \"\\uba87/Noun\", \"\\ubaa8\\ub450/Noun\", \"\\ubaa8\\ub4dc/Noun\", \"\\ubaa8\\ubc14\\uc77c/Noun\", \"\\ubb34\\ub8cc/Noun\", \"\\ubb34\\uc870\\uac74/Noun\", \"\\ubbf8\\uc158/Noun\", \"\\ubc09\\ub2e4/Adjective\", \"\\ubc14\\ub85c/Noun\", \"\\ubc1c/Noun\", \"\\ubc1c/Noun\", \"\\ubc1c/Noun\", \"\\ubc1c/Noun\", \"\\ubc1c/Noun\", \"\\ubc84\\uadf8/Noun\", \"\\ubc84\\uc804/Noun\", \"\\ubc84\\ud2bc/Noun\", \"\\ubcc4/Noun\", \"\\ubcc4\\ub85c/Noun\", \"\\ubcf4\\uace0/Noun\", \"\\ubcf4\\uc2a4/Noun\", \"\\ubcf4\\uc2a4/Noun\", \"\\ubcf4\\uc2a4/Noun\", \"\\ubcf4\\uc2a4/Noun\", \"\\ubcf4\\uc2a4/Noun\", \"\\ubcf5\\uad6c/Noun\", \"\\ubd80\\uc871\\ud558\\ub2e4/Adjective\", \"\\ubd80\\ud0c1/Noun\", \"\\ubd80\\ud130/Noun\", \"\\ubd84/Noun\", \"\\ube44\\uc2f8\\ub2e4/Adjective\", \"\\uc0ad\\uc81c/Noun\", \"\\uc0b4\\uc9dd/Noun\", \"\\uc0c8\\ub86d\\ub2e4/Adjective\", \"\\uc124\\uba85/Noun\", \"\\uc124\\uce58/Noun\", \"\\uc131/Noun\", \"\\uc138/Noun\", \"\\uc218\\uc815/Noun\", \"\\uc2a4\\ub098\\uc774\\ud37c/Noun\", \"\\uc2a4\\ub098\\uc774\\ud37c/Noun\", \"\\uc2a4\\ub098\\uc774\\ud37c/Noun\", \"\\uc2a4\\ub098\\uc774\\ud37c/Noun\", \"\\uc2a4\\ub098\\uc774\\ud37c/Noun\", \"\\uc2a4\\ub9b4/Noun\", \"\\uc2a4\\ud1a0\\ub9ac/Noun\", \"\\uc2a4\\ud30c\\uc774\\ub354\\ub9e8/Noun\", \"\\uc2a4\\ud30c\\uc774\\ub354\\ub9e8/Noun\", \"\\uc2a4\\ud30c\\uc774\\ub354\\ub9e8/Noun\", \"\\uc2a4\\ud30c\\uc774\\ub354\\ub9e8/Noun\", \"\\uc2a4\\ud30c\\uc774\\ub354\\ub9e8/Noun\", \"\\uc2dc\\ub9ac\\uc988/Noun\", \"\\uc2dc\\uc791/Noun\", \"\\uc2e0/Noun\", \"\\uc2ec\\ud558\\ub2e4/Adjective\", \"\\uc544\\uae5d\\ub2e4/Adjective\", \"\\uc544\\uc27d\\ub2e4/Adjective\", \"\\uc544\\uc544/Noun\", \"\\uc548\\ub418\\ub2e4/Adjective\", \"\\uc57d\\uac04/Noun\", \"\\uc5b4\\ub835\\ub2e4/Adjective\", \"\\uc5b8\\uc81c/Noun\", \"\\uc5ec/Noun\", \"\\uc5ec\\ub7ec/Noun\", \"\\uc5ec\\ub7ec\\ubd84/Noun\", \"\\uc601\\uc5b4/Noun\", \"\\uc608\\uc804/Noun\", \"\\uc624\\ub298/Noun\", \"\\uc624\\ub958/Noun\", \"\\uc640\\uc6b0/Noun\", \"\\uc644\\ubcbd\\ud558\\ub2e4/Adjective\", \"\\uc6a9/Noun\", \"\\uc6a9\\ub7c9/Noun\", \"\\uc6d0\\ub798/Noun\", \"\\uc6d0\\ud558\\ub2e4/Adjective\", \"\\uc720\\ub3c4/Noun\", \"\\uc720\\ub8cc/Noun\", \"\\uc720\\uc800/Noun\", \"\\uc74c/Noun\", \"\\uc774\\ub098/Noun\", \"\\uc774\\uc0c1/Noun\", \"\\uc774\\uc0c1\\ud558\\ub2e4/Adjective\", \"\\uc774\\uc720/Noun\", \"\\uc774\\uc81c/Noun\", \"\\uc77c\\ub2e8/Noun\", \"\\uc800\\uaca9/Noun\", \"\\uc804/Noun\", \"\\uc804\\ubd80/Noun\", \"\\uc81c\\uc77c/Noun\", \"\\uc81c\\uc791\\uc790/Noun\", \"\\uc870/Noun\", \"\\uc870\\uc791/Noun\", \"\\uc88b\\uc544\\ud558\\ub2e4/Adjective\", \"\\uc8fc\\uc2dc/Noun\", \"\\uc904/Noun\", \"\\uc911\\uac04/Noun\", \"\\uc9c4\\uc2ec/Noun\", \"\\uc9c4\\ud589/Noun\", \"\\uc9d1\\uc911/Noun\", \"\\uc9e7\\ub2e4/Adjective\", \"\\ucc98\\ub7fc/Noun\", \"\\ucc98\\uc74c/Noun\", \"\\ucd1d/Noun\", \"\\ucd5c\\uace0\\ub2e4/Noun\", \"\\ucd94\\ucc9c/Noun\", \"\\uce5c\\uad6c/Noun\", \"\\ucee8\\ud2b8\\ub864/Noun\", \"\\ud004\\ub9ac\\ud2f0/Noun\", \"\\ud074\\ub9ac\\uc5b4/Noun\", \"\\ud0c0/Noun\", \"\\ud0c0/Noun\", \"\\ud0c0/Noun\", \"\\ud0c0/Noun\", \"\\ud0c0/Noun\", \"\\ud310/Noun\", \"\\ud37c\\uc990/Noun\", \"\\ud37c\\uc990/Noun\", \"\\ud37c\\uc990/Noun\", \"\\ud544\\uc694\\ud558\\ub2e4/Adjective\", \"\\ud558\\ub098\\uc694/Noun\", \"\\ud558\\ub2c8/Noun\", \"\\ud558\\ub77c/Noun\", \"\\ud55c\\uad6d\\uc5b4/Noun\", \"\\ud55c\\uae00/Noun\", \"\\ud55c\\ubc88/Noun\", \"\\ud56d\\uc0c1/Noun\", \"\\ud604\\uc9c8/Noun\", \"\\ud654\\uba74/Noun\", \"\\ud658\\ubd88/Noun\", \"\\ud6c4/Noun\", \"\\ud6c4\\ud68c/Noun\", \"\\ud6cc\\ub96d\\ud558\\ub2e4/Adjective\"]}, \"R\": 30, \"lambda.step\": 0.01, \"plot.opts\": {\"xlab\": \"PC1\", \"ylab\": \"PC2\"}, \"topic.order\": [4, 3, 2, 5, 1]};\n",
       "\n",
       "function LDAvis_load_lib(url, callback){\n",
       "  var s = document.createElement('script');\n",
       "  s.src = url;\n",
       "  s.async = true;\n",
       "  s.onreadystatechange = s.onload = callback;\n",
       "  s.onerror = function(){console.warn(\"failed to load library \" + url);};\n",
       "  document.getElementsByTagName(\"head\")[0].appendChild(s);\n",
       "}\n",
       "\n",
       "if(typeof(LDAvis) !== \"undefined\"){\n",
       "   // already loaded: just create the visualization\n",
       "   !function(LDAvis){\n",
       "       new LDAvis(\"#\" + \"ldavis_el156351059198245607627573\", ldavis_el156351059198245607627573_data);\n",
       "   }(LDAvis);\n",
       "}else if(typeof define === \"function\" && define.amd){\n",
       "   // require.js is available: use it to load d3/LDAvis\n",
       "   require.config({paths: {d3: \"https://cdnjs.cloudflare.com/ajax/libs/d3/3.5.5/d3.min\"}});\n",
       "   require([\"d3\"], function(d3){\n",
       "      window.d3 = d3;\n",
       "      LDAvis_load_lib(\"https://cdn.rawgit.com/bmabey/pyLDAvis/files/ldavis.v1.0.0.js\", function(){\n",
       "        new LDAvis(\"#\" + \"ldavis_el156351059198245607627573\", ldavis_el156351059198245607627573_data);\n",
       "      });\n",
       "    });\n",
       "}else{\n",
       "    // require.js not available: dynamically load d3 & LDAvis\n",
       "    LDAvis_load_lib(\"https://cdnjs.cloudflare.com/ajax/libs/d3/3.5.5/d3.min.js\", function(){\n",
       "         LDAvis_load_lib(\"https://cdn.rawgit.com/bmabey/pyLDAvis/files/ldavis.v1.0.0.js\", function(){\n",
       "                 new LDAvis(\"#\" + \"ldavis_el156351059198245607627573\", ldavis_el156351059198245607627573_data);\n",
       "            })\n",
       "         });\n",
       "}\n",
       "</script>"
      ],
      "text/plain": [
       "PreparedData(topic_coordinates=              x         y  topics  cluster       Freq\n",
       "topic                                                \n",
       "3      0.303867 -0.002756       1        1  33.431667\n",
       "2     -0.070649  0.034361       2        1  17.382826\n",
       "1     -0.082418 -0.223379       3        1  17.224062\n",
       "4     -0.068745  0.044372       4        1  16.590191\n",
       "0     -0.082055  0.147401       5        1  15.371246, topic_info=      Category         Freq            Term        Total  loglift  logprob\n",
       "term                                                                      \n",
       "2      Default  1435.000000          돈/Noun  1435.000000  30.0000  30.0000\n",
       "18     Default  1407.000000          맵/Noun  1407.000000  29.0000  29.0000\n",
       "734    Default  1731.000000        그래픽/Noun  1731.000000  28.0000  28.0000\n",
       "1836   Default   924.000000   아깝다/Adjective   924.000000  27.0000  27.0000\n",
       "37     Default   787.000000         환불/Noun   787.000000  26.0000  26.0000\n",
       "928    Default   776.000000         미션/Noun   776.000000  25.0000  25.0000\n",
       "134    Default   608.000000         무료/Noun   608.000000  24.0000  24.0000\n",
       "11     Default   560.000000         대박/Noun   560.000000  23.0000  23.0000\n",
       "113    Default   537.000000         현질/Noun   537.000000  22.0000  22.0000\n",
       "136    Default   514.000000         구매/Noun   514.000000  21.0000  21.0000\n",
       "64     Default   475.000000   어렵다/Adjective   475.000000  20.0000  20.0000\n",
       "280    Default   474.000000       다운로드/Noun   474.000000  19.0000  19.0000\n",
       "44     Default   450.000000         처음/Noun   450.000000  18.0000  18.0000\n",
       "561    Default   414.000000         추천/Noun   414.000000  17.0000  17.0000\n",
       "68     Default   422.000000         개꿀/Noun   422.000000  16.0000  16.0000\n",
       "169    Default   639.000000   안되다/Adjective   639.000000  15.0000  15.0000\n",
       "110    Default   394.000000   아쉽다/Adjective   394.000000  14.0000  14.0000\n",
       "2067   Default   383.000000         가격/Noun   383.000000  13.0000  13.0000\n",
       "294    Default   361.000000          겜/Noun   361.000000  12.0000  12.0000\n",
       "71     Default   350.000000  좋아하다/Adjective   350.000000  11.0000  11.0000\n",
       "689    Default   344.000000         한글/Noun   344.000000  10.0000  10.0000\n",
       "101    Default   348.000000          줄/Noun   348.000000   9.0000   9.0000\n",
       "92     Default   329.000000          분/Noun   329.000000   8.0000   8.0000\n",
       "0      Default   327.000000         유료/Noun   327.000000   7.0000   7.0000\n",
       "16     Default   323.000000        제작자/Noun   323.000000   6.0000   6.0000\n",
       "716    Default   527.000000          총/Noun   527.000000   5.0000   5.0000\n",
       "534    Default   300.000000          과/Noun   300.000000   4.0000   4.0000\n",
       "278    Default   308.000000        모바일/Noun   308.000000   3.0000   3.0000\n",
       "2031   Default   294.000000        한국어/Noun   294.000000   2.0000   2.0000\n",
       "788    Default   281.000000          감/Noun   281.000000   1.0000   1.0000\n",
       "...        ...          ...             ...          ...      ...      ...\n",
       "134     Topic5   608.095947         무료/Noun   608.896545   1.8714  -3.2252\n",
       "64      Topic5   474.511749   어렵다/Adjective   475.254333   1.8711  -3.4732\n",
       "561     Topic5   413.319061         추천/Noun   414.074921   1.8708  -3.6113\n",
       "534     Topic5   299.778839          과/Noun   300.523712   1.8702  -3.9324\n",
       "788     Topic5   281.091644          감/Noun   281.844788   1.8700  -3.9968\n",
       "40      Topic5   256.148743         와우/Noun   256.912476   1.8697  -4.0897\n",
       "785     Topic5   232.665909         기대/Noun   233.408493   1.8695  -4.1859\n",
       "879     Topic5   196.465057          세/Noun   197.216339   1.8689  -4.3550\n",
       "655     Topic5   187.305847         삭제/Noun   188.058090   1.8687  -4.4028\n",
       "654     Topic5   180.308655         바로/Noun   181.049026   1.8686  -4.4408\n",
       "353     Topic5   163.116272   심하다/Adjective   163.890793   1.8679  -4.5410\n",
       "629     Topic5   156.557632          후/Noun   157.301056   1.8679  -4.5821\n",
       "326     Topic5   154.121613        마지막/Noun   154.873016   1.8678  -4.5978\n",
       "131     Topic5   146.847672         시작/Noun   147.594650   1.8676  -4.6461\n",
       "357     Topic5   144.202652         유저/Noun   145.006149   1.8671  -4.6643\n",
       "1325    Topic5   133.748276         여러/Noun   134.510773   1.8670  -4.7395\n",
       "67      Topic5   121.046188         예전/Noun   121.807236   1.8664  -4.8393\n",
       "637     Topic5   112.601959         살짝/Noun   113.361641   1.8659  -4.9116\n",
       "346     Topic5   102.741577         거의/Noun   103.496780   1.8653  -5.0033\n",
       "1504    Topic5   100.926727         부탁/Noun   101.679199   1.8652  -5.0211\n",
       "521     Topic5    96.209793         마다/Noun    96.957802   1.8649  -5.0690\n",
       "147     Topic5    88.161713         원래/Noun    88.915764   1.8642  -5.1563\n",
       "1263    Topic5    81.258926         중간/Noun    82.001236   1.8636  -5.2379\n",
       "527     Topic5    84.564980         스릴/Noun    85.345200   1.8635  -5.1980\n",
       "1458    Topic5    82.539528         주시/Noun    83.466690   1.8615  -5.2222\n",
       "382     Topic5    63.733505         이유/Noun    64.485573   1.8609  -5.4808\n",
       "1149    Topic5    65.742744         항상/Noun    66.534531   1.8607  -5.4497\n",
       "3       Topic5    60.046219   원하다/Adjective    60.791855   1.8603  -5.5404\n",
       "10203   Topic5    73.915939       스나이퍼/Noun   426.916199   0.1190  -5.3326\n",
       "6780    Topic5    67.619850      스파이더맨/Noun   433.278351   0.0152  -5.4216\n",
       "\n",
       "[189 rows x 6 columns], token_table=      Topic      Freq            Term\n",
       "term                                 \n",
       "2067      4  0.996781         가격/Noun\n",
       "1006      4  0.988942         가끔/Noun\n",
       "428       4  0.994224         가장/Noun\n",
       "488       2  0.995575  간단하다/Adjective\n",
       "788       5  0.997003          감/Noun\n",
       "74        4  0.997663         강추/Noun\n",
       "68        2  0.998473         개꿀/Noun\n",
       "1424      4  0.989212         개인/Noun\n",
       "346       5  0.995200         거의/Noun\n",
       "570       3  0.996319         거지/Noun\n",
       "791       1  0.996104         건가/Noun\n",
       "182       1  0.996143          걸/Noun\n",
       "294       2  0.998264          겜/Noun\n",
       "33        1  0.998520         결제/Noun\n",
       "1617      4  0.993144          곳/Noun\n",
       "200       1  0.994460         공짜/Noun\n",
       "534       5  0.998257          과/Noun\n",
       "830       4  0.992231         구글/Noun\n",
       "136       3  0.997799         구매/Noun\n",
       "734       1  0.999570        그래픽/Noun\n",
       "225       4  0.994998          기/Noun\n",
       "785       5  0.998250         기대/Noun\n",
       "8         1  0.996178  기대하다/Adjective\n",
       "979       3  0.995779          꼭/Noun\n",
       "404       1  0.994802          난/Noun\n",
       "1280      1  0.998624        난이도/Noun\n",
       "51        3  0.993377          남/Noun\n",
       "89        3  0.996576         느낌/Noun\n",
       "666       2  0.993508         다만/Noun\n",
       "1239      3  0.996288  다양하다/Adjective\n",
       "...     ...       ...             ...\n",
       "716       1  0.997114          총/Noun\n",
       "480       3  0.994837        최고다/Noun\n",
       "561       5  0.997404         추천/Noun\n",
       "495       2  0.992760         친구/Noun\n",
       "1276      1  0.997218        컨트롤/Noun\n",
       "4534      1  0.998199        퀄리티/Noun\n",
       "929       4  0.995461        클리어/Noun\n",
       "758       1  0.013287          타/Noun\n",
       "758       2  0.013287          타/Noun\n",
       "758       3  0.956685          타/Noun\n",
       "758       4  0.008858          타/Noun\n",
       "758       5  0.008858          타/Noun\n",
       "90        3  0.989136          판/Noun\n",
       "223       1  0.004353         퍼즐/Noun\n",
       "223       3  0.004353         퍼즐/Noun\n",
       "223       4  0.992521         퍼즐/Noun\n",
       "855       3  0.994632  필요하다/Adjective\n",
       "485       2  0.995512        하나요/Noun\n",
       "304       2  0.993907         하니/Noun\n",
       "1042      4  0.989803         하라/Noun\n",
       "2031      4  0.996321        한국어/Noun\n",
       "689       4  0.997817         한글/Noun\n",
       "227       4  0.995311         한번/Noun\n",
       "1149      5  0.991966         항상/Noun\n",
       "113       2  0.998092         현질/Noun\n",
       "498       2  0.993002         화면/Noun\n",
       "37        5  0.999025         환불/Noun\n",
       "629       5  0.998086          후/Noun\n",
       "1941      2  0.998977         후회/Noun\n",
       "1254      3  0.993789  훌륭하다/Adjective\n",
       "\n",
       "[179 rows x 3 columns], R=30, lambda_step=0.01, plot_opts={'xlab': 'PC1', 'ylab': 'PC2'}, topic_order=[4, 3, 2, 5, 1])"
      ]
     },
     "execution_count": 31,
     "metadata": {},
     "output_type": "execute_result"
    }
   ],
   "source": [
    "# Plotting tools\n",
    "import pyLDAvis\n",
    "import pyLDAvis.gensim # don't skip this\n",
    "import matplotlib.pyplot as plt\n",
    "%matplotlib inline\n",
    "\n",
    "pyLDAvis.enable_notebook()\n",
    "vis = pyLDAvis.gensim.prepare(lda_model, tf_ko, dictionary_ko)\n",
    "vis"
   ]
  },
  {
   "cell_type": "code",
   "execution_count": 41,
   "metadata": {
    "scrolled": true
   },
   "outputs": [
    {
     "name": "stdout",
     "output_type": "stream",
     "text": [
      "[(0,\n",
      "  [('게임', 0.0834190784427441),\n",
      "   ('도', 0.04944530709221185),\n",
      "   ('이', 0.046452023272781695),\n",
      "   ('것', 0.03704188726544815),\n",
      "   ('할', 0.026509269825828297),\n",
      "   ('수', 0.02585448899032795),\n",
      "   ('의', 0.023740482292855407),\n",
      "   ('은', 0.015602491908779676),\n",
      "   ('게', 0.014741922810693506),\n",
      "   ('좋은', 0.013712981497764391)]),\n",
      " (1,\n",
      "  [('이', 0.04885639837869137),\n",
      "   ('?', 0.03372900984365953),\n",
      "   ('거', 0.028825275043427908),\n",
      "   ('들', 0.027142443543717427),\n",
      "   ('는', 0.024012015055008686),\n",
      "   ('은', 0.021062536189924725),\n",
      "   ('로', 0.01766068326577881),\n",
      "   ('하는', 0.016538795599305153),\n",
      "   ('안', 0.014801679212507237),\n",
      "   ('에', 0.014258830341632889)]),\n",
      " (2,\n",
      "  [('좀', 0.036481856408659086),\n",
      "   ('다', 0.035333281420339514),\n",
      "   ('..', 0.03054430774022738),\n",
      "   ('...', 0.029921351814359134),\n",
      "   ('가', 0.026027877277682604),\n",
      "   ('만', 0.0242368789908114),\n",
      "   ('업데이트', 0.017948917614078803),\n",
      "   ('근데', 0.016722473135025697),\n",
      "   ('해주세요', 0.015904843482323627),\n",
      "   ('2', 0.0127900638529824)]),\n",
      " (3,\n",
      "  [('이', 0.08476808366418127),\n",
      "   ('가', 0.0604434976275782),\n",
      "   ('게임', 0.05668635615377167),\n",
      "   ('안', 0.027616926503340758),\n",
      "   ('광고', 0.025564055388786675),\n",
      "   ('거', 0.024189019076207997),\n",
      "   ('제', 0.02221361479616539),\n",
      "   ('저', 0.01661663600271134),\n",
      "   ('돈', 0.015532100319550692),\n",
      "   ('많이', 0.015396533359155612)]),\n",
      " (4,\n",
      "  [('너무', 0.08702491284754697),\n",
      "   ('!', 0.07637530822208996),\n",
      "   ('정말', 0.05088852988691438),\n",
      "   ('잼', 0.048252699600374115),\n",
      "   ('좋아요', 0.04804013264178216),\n",
      "   ('재밌어요', 0.041960717626052205),\n",
      "   ('꿀', 0.03645523339852053),\n",
      "   ('재미있어요', 0.03233143440183658),\n",
      "   ('재미', 0.0288028228892101),\n",
      "   ('!!', 0.02725108409148882)]),\n",
      " (5,\n",
      "  [('최고', 0.056448914958627916),\n",
      "   ('요', 0.055690612663648324),\n",
      "   ('굿', 0.04516359256863751),\n",
      "   ('시간', 0.02790106385351384),\n",
      "   ('재밌네요', 0.01951513259138658),\n",
      "   ('^^', 0.016571135446171687),\n",
      "   ('ㅎㅎ', 0.015946651203247317),\n",
      "   ('Good', 0.015723621116488614),\n",
      "   ('재미나', 0.015054530856212504),\n",
      "   ('ㅋㅋ', 0.013560229274929187)]),\n",
      " (6,\n",
      "  [('.', 0.1524265716089265),\n",
      "   ('을', 0.046897627269689206),\n",
      "   ('에', 0.041884816753926704),\n",
      "   ('하고', 0.02651219783892169),\n",
      "   (',', 0.026270840295570162),\n",
      "   ('를', 0.021295161709554044),\n",
      "   ('한', 0.0204411273253871),\n",
      "   ('으로', 0.0187701904867996),\n",
      "   ('때', 0.01719208347257807),\n",
      "   ('입니다', 0.012086443132449593)])]\n"
     ]
    }
   ],
   "source": [
    "mallet_path = 'mallet-2.0.8/bin/mallet' # update this path\n",
    "ldamallet = gensim.models.wrappers.LdaMallet(mallet_path, corpus=tf_ko, num_topics=7, id2word=dictionary_ko)\n",
    "pprint.pprint(ldamallet.show_topics(formatted=False))"
   ]
  },
  {
   "cell_type": "code",
   "execution_count": 42,
   "metadata": {},
   "outputs": [
    {
     "name": "stdout",
     "output_type": "stream",
     "text": [
      "36356\n"
     ]
    }
   ],
   "source": [
    "print(len(ldamallet[tf_ko]))"
   ]
  },
  {
   "cell_type": "code",
   "execution_count": 82,
   "metadata": {
    "scrolled": false
   },
   "outputs": [
    {
     "name": "stdout",
     "output_type": "stream",
     "text": [
      "91197\n",
      "\n",
      "Coherence Score:  0.8367426129691189\n"
     ]
    }
   ],
   "source": [
    "# Compute Coherence Score\n",
    "coherence_model_ldamallet = CoherenceModel(model=ldamallet, texts=texts_ko, dictionary=dictionary_ko, coherence='c_v')\n",
    "coherence_ldamallet = coherence_model_ldamallet.get_coherence()\n",
    "print('\\nCoherence Score: ', coherence_ldamallet)\n",
    "#pprint.pprint(ldamallet[tf_ko])  # 0~ 8까지 튜플로 이루어진게 첫번째리뷰가 0번째 속할 확률"
   ]
  },
  {
   "cell_type": "code",
   "execution_count": 34,
   "metadata": {},
   "outputs": [
    {
     "name": "stdout",
     "output_type": "stream",
     "text": [
      "\n",
      "Coherence Score:  0.8480085619365972\n"
     ]
    }
   ],
   "source": [
    "# Compute Coherence Score\n",
    "'''\n",
    "coherence_model_ldamallet = CoherenceModel(model=ldamallet, texts=texts_ko, dictionary=dictionary_ko, coherence='c_v')\n",
    "coherence_ldamallet = coherence_model_ldamallet.get_coherence()\n",
    "print('\\nCoherence Score: ', coherence_ldamallet)\n",
    "'''"
   ]
  },
  {
   "cell_type": "code",
   "execution_count": 85,
   "metadata": {},
   "outputs": [
    {
     "data": {
      "text/plain": [
       "'\\nCompute c_v coherence for various number of topics\\n \\nParameters:\\n----------\\ndictionary : Gensim dictionary\\ncorpus : Gensim corpus\\ntexts : List of input texts\\nlimit : Max num of topics\\n \\nReturns:\\n-------\\nmodel_list : List of LDA topic models\\ncoherence_values : Coherence values corresponding to the LDA model with respective number of topics\\n'"
      ]
     },
     "execution_count": 85,
     "metadata": {},
     "output_type": "execute_result"
    }
   ],
   "source": [
    "def compute_coherence_values(dictionary, corpus, texts, limit=10, start=2, step=1):\n",
    "    coherence_values = []\n",
    "    model_list = []\n",
    "    for num_topics in range(start, limit, step):\n",
    "        model = gensim.models.wrappers.LdaMallet(mallet_path, corpus=tf_ko, num_topics=5, id2word=dictionary_ko)\n",
    "        model_list.append(model)\n",
    "        coherencemodel = CoherenceModel(model=model, texts=texts_ko, dictionary=dictionary_ko, coherence='c_v')\n",
    "        coherence_values.append(coherencemodel.get_coherence())\n",
    "\n",
    "    return model_list, coherence_values\n",
    "\n",
    "\"\"\"\n",
    "Compute c_v coherence for various number of topics\n",
    " \n",
    "Parameters:\n",
    "----------\n",
    "dictionary : Gensim dictionary\n",
    "corpus : Gensim corpus\n",
    "texts : List of input texts\n",
    "limit : Max num of topics\n",
    " \n",
    "Returns:\n",
    "-------\n",
    "model_list : List of LDA topic models\n",
    "coherence_values : Coherence values corresponding to the LDA model with respective number of topics\n",
    "\"\"\"\n"
   ]
  },
  {
   "cell_type": "code",
   "execution_count": 86,
   "metadata": {},
   "outputs": [],
   "source": [
    "model_list, coherence_values = compute_coherence_values(dictionary=dictionary_ko, corpus=tf_ko, texts=texts_ko, start=3, limit=10, step=1)"
   ]
  },
  {
   "cell_type": "code",
   "execution_count": 87,
   "metadata": {},
   "outputs": [
    {
     "data": {
      "image/png": "[encoded data removed]",
      "text/plain": [
       "<Figure size 432x288 with 1 Axes>"
      ]
     },
     "metadata": {
      "needs_background": "light"
     },
     "output_type": "display_data"
    },
    {
     "name": "stdout",
     "output_type": "stream",
     "text": [
      "Num Topics = 3  has Coherence Value of 0.8474\n",
      "Num Topics = 4  has Coherence Value of 0.8478\n",
      "Num Topics = 5  has Coherence Value of 0.8476\n",
      "Num Topics = 6  has Coherence Value of 0.8481\n",
      "Num Topics = 7  has Coherence Value of 0.8483\n",
      "Num Topics = 8  has Coherence Value of 0.8478\n",
      "Num Topics = 9  has Coherence Value of 0.8482\n"
     ]
    }
   ],
   "source": [
    "# Show graph\n",
    "limit=10; start=3; step=1;\n",
    "x = range(start, limit, step)\n",
    "plt.plot(x, coherence_values)\n",
    "plt.xlabel(\"Num Topics\")\n",
    "plt.ylabel(\"Coherence score\")\n",
    "plt.legend((\"coherence_values\"), loc='best')\n",
    "plt.show()\n",
    "\n",
    "\n",
    "# Print the coherence scores\n",
    "for m, cv in zip(x, coherence_values):\n",
    "    print(\"Num Topics =\", m, \" has Coherence Value of\", round(cv, 4))"
   ]
  },
  {
   "cell_type": "code",
   "execution_count": null,
   "metadata": {},
   "outputs": [],
   "source": []
  },
  {
   "cell_type": "code",
   "execution_count": null,
   "metadata": {},
   "outputs": [],
   "source": []
  },
  {
   "cell_type": "code",
   "execution_count": null,
   "metadata": {},
   "outputs": [],
   "source": []
  },
  {
   "cell_type": "code",
   "execution_count": null,
   "metadata": {},
   "outputs": [],
   "source": []
  },
  {
   "cell_type": "code",
   "execution_count": null,
   "metadata": {},
   "outputs": [],
   "source": []
  },
  {
   "cell_type": "code",
   "execution_count": null,
   "metadata": {},
   "outputs": [],
   "source": []
  },
  {
   "cell_type": "code",
   "execution_count": 38,
   "metadata": {},
   "outputs": [
    {
     "name": "stdout",
     "output_type": "stream",
     "text": [
      "[(0,\n",
      "  '0.024*\"아깝다/Adjective\" + 0.022*\"별/Noun\" + 0.021*\"중독/Noun\" + 0.018*\"개꿀/Noun\" '\n",
      "  '+ 0.018*\"과/Noun\" + 0.016*\"심심하다/Adjective\" + 0.016*\"부터/Noun\" + '\n",
      "  '0.015*\"돈/Noun\" + 0.015*\"구매/Noun\" + 0.014*\"걸/Noun\"'),\n",
      " (1,\n",
      "  '0.022*\"전/Noun\" + 0.021*\"귀엽다/Adjective\" + 0.018*\"대박/Noun\" + '\n",
      "  '0.017*\"아쉽다/Adjective\" + 0.015*\"겜/Noun\" + 0.013*\"시작/Noun\" + 0.013*\"버전/Noun\" '\n",
      "  '+ 0.012*\"한글/Noun\" + 0.012*\"레벨/Noun\" + 0.012*\"와이파이/Noun\"'),\n",
      " (2,\n",
      "  '0.030*\"어렵다/Adjective\" + 0.025*\"성/Noun\" + 0.021*\"안되다/Adjective\" + '\n",
      "  '0.020*\"분/Noun\" + 0.019*\"렉/Noun\" + 0.017*\"친구/Noun\" + 0.012*\"모바일/Noun\" + '\n",
      "  '0.012*\"너/Noun\" + 0.012*\"보고/Noun\" + 0.011*\"무섭다/Adjective\"'),\n",
      " (3,\n",
      "  '0.026*\"돈/Noun\" + 0.022*\"줄/Noun\" + 0.020*\"맵/Noun\" + 0.020*\"좋아하다/Adjective\" + '\n",
      "  '0.016*\"꼭/Noun\" + 0.015*\"무료/Noun\" + 0.014*\"캐릭터/Noun\" + 0.013*\"다운로드/Noun\" + '\n",
      "  '0.013*\"버그/Noun\" + 0.011*\"머리/Noun\"'),\n",
      " (4,\n",
      "  '0.025*\"제작자/Noun\" + 0.022*\"처음/Noun\" + 0.021*\"환불/Noun\" + 0.020*\"추천/Noun\" + '\n",
      "  '0.014*\"영어/Noun\" + 0.012*\"판/Noun\" + 0.011*\"포우/Noun\" + 0.010*\"결제/Noun\" + '\n",
      "  '0.010*\"새롭다/Adjective\" + 0.010*\"앱/Noun\"')]\n"
     ]
    }
   ],
   "source": [
    "# Select the model and print the topics\n",
    "optimal_model = model_list[6]  #best model\n",
    "model_topics = optimal_model.show_topics(formatted=False)\n",
    "pprint.pprint(optimal_model.print_topics(num_words=10))"
   ]
  },
  {
   "cell_type": "code",
   "execution_count": 44,
   "metadata": {
    "scrolled": true
   },
   "outputs": [
    {
     "data": {
      "text/html": [
       "<div>\n",
       "<style scoped>\n",
       "    .dataframe tbody tr th:only-of-type {\n",
       "        vertical-align: middle;\n",
       "    }\n",
       "\n",
       "    .dataframe tbody tr th {\n",
       "        vertical-align: top;\n",
       "    }\n",
       "\n",
       "    .dataframe thead th {\n",
       "        text-align: right;\n",
       "    }\n",
       "</style>\n",
       "<table border=\"1\" class=\"dataframe\">\n",
       "  <thead>\n",
       "    <tr style=\"text-align: right;\">\n",
       "      <th></th>\n",
       "      <th>Document_No</th>\n",
       "      <th>Document_Name</th>\n",
       "      <th>Dominant_Topic</th>\n",
       "      <th>Topic_Perc_Contrib</th>\n",
       "      <th>Keywords</th>\n",
       "      <th>Text</th>\n",
       "    </tr>\n",
       "  </thead>\n",
       "  <tbody>\n",
       "    <tr>\n",
       "      <th>0</th>\n",
       "      <td>0</td>\n",
       "      <td>1.0</td>\n",
       "      <td>Angry Birds Rio</td>\n",
       "      <td>0.2157</td>\n",
       "      <td>전/Noun, 귀엽다/Adjective, 대박/Noun, 아쉽다/Adjective,...</td>\n",
       "      <td>[ 재밌고 즐겁습니다.   꿀 잼   매우 좋음   광고 없는 유료화를 해 주세요....</td>\n",
       "    </tr>\n",
       "    <tr>\n",
       "      <th>1</th>\n",
       "      <td>1</td>\n",
       "      <td>4.0</td>\n",
       "      <td>Draughts</td>\n",
       "      <td>0.2157</td>\n",
       "      <td>제작자/Noun, 처음/Noun, 환불/Noun, 추천/Noun, 영어/Noun, ...</td>\n",
       "      <td>[ 와 너무 추억인데 게임이 변한 게 없어서 진짜 좋았다   중독성   재미이는 디...</td>\n",
       "    </tr>\n",
       "    <tr>\n",
       "      <th>2</th>\n",
       "      <td>2</td>\n",
       "      <td>3.0</td>\n",
       "      <td>Bubble Shooter</td>\n",
       "      <td>0.2070</td>\n",
       "      <td>돈/Noun, 줄/Noun, 맵/Noun, 좋아하다/Adjective, 꼭/Noun...</td>\n",
       "      <td>[ 짱!   킬링타임용으로 좋음   Good   그럭저럭합니다   중독성이 강하네요...</td>\n",
       "    </tr>\n",
       "    <tr>\n",
       "      <th>3</th>\n",
       "      <td>3</td>\n",
       "      <td>4.0</td>\n",
       "      <td>Draughts</td>\n",
       "      <td>0.2157</td>\n",
       "      <td>제작자/Noun, 처음/Noun, 환불/Noun, 추천/Noun, 영어/Noun, ...</td>\n",
       "      <td>[ 할 거 없을 때마다 하면 좋아요!:D 제가 단계를 다 깼는데 업데이트는 언제 되...</td>\n",
       "    </tr>\n",
       "    <tr>\n",
       "      <th>4</th>\n",
       "      <td>4</td>\n",
       "      <td>0.0</td>\n",
       "      <td>Angry Birds Classic</td>\n",
       "      <td>0.2113</td>\n",
       "      <td>아깝다/Adjective, 별/Noun, 중독/Noun, 개꿀/Noun, 과/Nou...</td>\n",
       "      <td>[ 이겨서 좋다  영국 친구가 소개해줬어요. 진짜 재밌네요.]</td>\n",
       "    </tr>\n",
       "    <tr>\n",
       "      <th>5</th>\n",
       "      <td>5</td>\n",
       "      <td>4.0</td>\n",
       "      <td>Draughts</td>\n",
       "      <td>0.2157</td>\n",
       "      <td>제작자/Noun, 처음/Noun, 환불/Noun, 추천/Noun, 영어/Noun, ...</td>\n",
       "      <td>[ 그러니 진짜 너무 재밌고 심심할 때 항상 하고 있는 게임이에요!! 한 가지 피드...</td>\n",
       "    </tr>\n",
       "    <tr>\n",
       "      <th>6</th>\n",
       "      <td>6</td>\n",
       "      <td>4.0</td>\n",
       "      <td>Draughts</td>\n",
       "      <td>0.2157</td>\n",
       "      <td>제작자/Noun, 처음/Noun, 환불/Noun, 추천/Noun, 영어/Noun, ...</td>\n",
       "      <td>[ 꾸준한 업데이트 감사합니다. 차에 브레이크 등이 들어왔으면 좋을 거 같고 차량의...</td>\n",
       "    </tr>\n",
       "    <tr>\n",
       "      <th>7</th>\n",
       "      <td>7</td>\n",
       "      <td>0.0</td>\n",
       "      <td>Angry Birds Classic</td>\n",
       "      <td>0.2092</td>\n",
       "      <td>아깝다/Adjective, 별/Noun, 중독/Noun, 개꿀/Noun, 과/Nou...</td>\n",
       "      <td>[ 이 게임 1년 만인데도 아직 옛날과 똑같네요 ㅎㅎ   진짜 재미있고 꿀만 잠 대...</td>\n",
       "    </tr>\n",
       "    <tr>\n",
       "      <th>8</th>\n",
       "      <td>8</td>\n",
       "      <td>4.0</td>\n",
       "      <td>Draughts</td>\n",
       "      <td>0.2157</td>\n",
       "      <td>제작자/Noun, 처음/Noun, 환불/Noun, 추천/Noun, 영어/Noun, ...</td>\n",
       "      <td>[ 이거 PC에서는 화분 2500원인데 왜 5000원이죠? 돈 낭비가 되네요 그리고...</td>\n",
       "    </tr>\n",
       "    <tr>\n",
       "      <th>9</th>\n",
       "      <td>9</td>\n",
       "      <td>4.0</td>\n",
       "      <td>Draughts</td>\n",
       "      <td>0.2157</td>\n",
       "      <td>제작자/Noun, 처음/Noun, 환불/Noun, 추천/Noun, 영어/Noun, ...</td>\n",
       "      <td>[ 굿~!!   재미있는 놀이였습니다.   200이 끝?? 아쉬워요 300까지 추가...</td>\n",
       "    </tr>\n",
       "  </tbody>\n",
       "</table>\n",
       "</div>"
      ],
      "text/plain": [
       "   Document_No  Document_Name       Dominant_Topic  Topic_Perc_Contrib  \\\n",
       "0            0            1.0      Angry Birds Rio              0.2157   \n",
       "1            1            4.0             Draughts              0.2157   \n",
       "2            2            3.0       Bubble Shooter              0.2070   \n",
       "3            3            4.0             Draughts              0.2157   \n",
       "4            4            0.0  Angry Birds Classic              0.2113   \n",
       "5            5            4.0             Draughts              0.2157   \n",
       "6            6            4.0             Draughts              0.2157   \n",
       "7            7            0.0  Angry Birds Classic              0.2092   \n",
       "8            8            4.0             Draughts              0.2157   \n",
       "9            9            4.0             Draughts              0.2157   \n",
       "\n",
       "                                            Keywords  \\\n",
       "0  전/Noun, 귀엽다/Adjective, 대박/Noun, 아쉽다/Adjective,...   \n",
       "1  제작자/Noun, 처음/Noun, 환불/Noun, 추천/Noun, 영어/Noun, ...   \n",
       "2  돈/Noun, 줄/Noun, 맵/Noun, 좋아하다/Adjective, 꼭/Noun...   \n",
       "3  제작자/Noun, 처음/Noun, 환불/Noun, 추천/Noun, 영어/Noun, ...   \n",
       "4  아깝다/Adjective, 별/Noun, 중독/Noun, 개꿀/Noun, 과/Nou...   \n",
       "5  제작자/Noun, 처음/Noun, 환불/Noun, 추천/Noun, 영어/Noun, ...   \n",
       "6  제작자/Noun, 처음/Noun, 환불/Noun, 추천/Noun, 영어/Noun, ...   \n",
       "7  아깝다/Adjective, 별/Noun, 중독/Noun, 개꿀/Noun, 과/Nou...   \n",
       "8  제작자/Noun, 처음/Noun, 환불/Noun, 추천/Noun, 영어/Noun, ...   \n",
       "9  제작자/Noun, 처음/Noun, 환불/Noun, 추천/Noun, 영어/Noun, ...   \n",
       "\n",
       "                                                Text  \n",
       "0  [ 재밌고 즐겁습니다.   꿀 잼   매우 좋음   광고 없는 유료화를 해 주세요....  \n",
       "1  [ 와 너무 추억인데 게임이 변한 게 없어서 진짜 좋았다   중독성   재미이는 디...  \n",
       "2  [ 짱!   킬링타임용으로 좋음   Good   그럭저럭합니다   중독성이 강하네요...  \n",
       "3  [ 할 거 없을 때마다 하면 좋아요!:D 제가 단계를 다 깼는데 업데이트는 언제 되...  \n",
       "4                 [ 이겨서 좋다  영국 친구가 소개해줬어요. 진짜 재밌네요.]  \n",
       "5  [ 그러니 진짜 너무 재밌고 심심할 때 항상 하고 있는 게임이에요!! 한 가지 피드...  \n",
       "6  [ 꾸준한 업데이트 감사합니다. 차에 브레이크 등이 들어왔으면 좋을 거 같고 차량의...  \n",
       "7  [ 이 게임 1년 만인데도 아직 옛날과 똑같네요 ㅎㅎ   진짜 재미있고 꿀만 잠 대...  \n",
       "8  [ 이거 PC에서는 화분 2500원인데 왜 5000원이죠? 돈 낭비가 되네요 그리고...  \n",
       "9  [ 굿~!!   재미있는 놀이였습니다.   200이 끝?? 아쉬워요 300까지 추가...  "
      ]
     },
     "execution_count": 44,
     "metadata": {},
     "output_type": "execute_result"
    }
   ],
   "source": [
    "def format_topics_sentences(ldamodel=lda_model, corpus=tf_ko, texts=data):\n",
    "    # Init output\n",
    "    sent_topics_df = pd.DataFrame()\n",
    "\n",
    "    # Get main topic in each document\n",
    "    for i, row in enumerate(ldamodel[corpus]):\n",
    "        row = sorted(row, key=lambda x: (x[1]), reverse=True)\n",
    "        # Get the Dominant topic, Perc Contribution and Keywords for each document\n",
    "        for j, (topic_num, prop_topic) in enumerate(row):\n",
    "            if j == 0:  # => dominant topic\n",
    "                wp = ldamodel.show_topic(topic_num)\n",
    "                topic_keywords = \", \".join([word for word, prop in wp])\n",
    "                sent_topics_df = sent_topics_df.append(pd.Series([int(topic_num), name_list[int(topic_num)], round(prop_topic,4), topic_keywords]), ignore_index=True)\n",
    "            else:\n",
    "                break\n",
    "    sent_topics_df.columns = ['Dominant_Topic', 'Document_name', 'Perc_Contribution', 'Topic_Keywords']\n",
    "\n",
    "    # Add original text to the end of the output\n",
    "    contents = pd.Series(texts)\n",
    "    sent_topics_df = pd.concat([sent_topics_df, contents], axis=1)\n",
    "    return(sent_topics_df)\n",
    "\n",
    "\n",
    "df_topic_sents_keywords = format_topics_sentences(ldamodel=optimal_model, corpus=tf_ko, texts=data)\n",
    "\n",
    "# Format\n",
    "df_dominant_topic = df_topic_sents_keywords.reset_index()\n",
    "df_dominant_topic.columns = ['Document_No', 'Document_Name', 'Dominant_Topic', 'Topic_Perc_Contrib', 'Keywords', 'Text']\n",
    "\n",
    "# Show\n",
    "df_dominant_topic.head(10)"
   ]
  },
  {
   "cell_type": "code",
   "execution_count": null,
   "metadata": {},
   "outputs": [],
   "source": [
    "bow = tfidf_model_ko[dictionary_ko.doc2bow(texts_ko[0])]\n",
    "sorted(lsi_ko[bow], key=lambda x: x[1], reverse=True)\n",
    "sorted(lda_ko[bow], key=lambda x: x[1], reverse=True)\n",
    "sorted(hdp_ko[bow], key=lambda x: x[1], reverse=True)"
   ]
  },
  {
   "cell_type": "code",
   "execution_count": null,
   "metadata": {},
   "outputs": [],
   "source": [
    "bow = tfidf_model_ko[dictionary_ko.doc2bow(texts_ko[1])]\n",
    "sorted(lsi_ko[bow], key=lambda x: x[1], reverse=True)\n",
    "sorted(lda_ko[bow], key=lambda x: x[1], reverse=True)\n",
    "sorted(hdp_ko[bow], key=lambda x: x[1], reverse=True)"
   ]
  },
  {
   "cell_type": "code",
   "execution_count": null,
   "metadata": {},
   "outputs": [],
   "source": [
    "ko = nltk.Text(result, name='token_ko')   \n",
    "print(len(set(ko.tokens)))  # returns number of unique tokens\n",
    "ko.vocab()                  # returns frequency distribution\n",
    "\n",
    "from konlpy.tag import Twitter; t = Twitter()\n",
    "\n",
    "pos = lambda d: ['/'.join(p) for p in t.pos(d, stem=True, norm=True)]\n",
    "texts_ko = [pos(doc) for doc in ko]\n",
    "\n",
    "\n",
    "#create id2word\n",
    "from gensim import corpora\n",
    "dictionary_ko = corpora.Dictionary(texts_ko)\n",
    "#dictionary_ko.save(u'ko.dict')  # save dictionary to file for future use\n",
    "\n",
    "from gensim import models\n",
    "tf_ko = [dictionary_ko.doc2bow(text) for text in texts_ko]\n",
    "tfidf_model_ko = models.TfidfModel(tf_ko)\n",
    "tfidf_ko = tfidf_model_ko[tf_ko]\n",
    "#corpora.MmCorpus.serialize('ko.mm', tfidf_ko) # save corpus to file for future use\n",
    "\n",
    "\n",
    "import numpy as np; np.random.seed(42)  # optional\n",
    "import pprint\n",
    "\n",
    "ntopics = 5\n",
    "nwords = 5\n",
    "\n",
    "lda_ko = models.ldamodel.LdaModel(tfidf_ko, id2word=dictionary_ko, num_topics=ntopics)\n",
    "pprint.pprint(lda_ko.print_topics(num_topics=ntopics, num_words=nwords))\n",
    "\n",
    "from gensim.models import word2vec\n",
    "wv_model_ko = word2vec.Word2Vec(texts_ko)\n",
    "wv_model_ko.init_sims(replace=True)\n",
    "#wv_model_ko.save('ko_word2vec.model')\n",
    "\n",
    "\n",
    "\n",
    "import gensim\n",
    "\n",
    "lda_model = gensim.models.ldamodel.LdaModel(corpus=tf_ko,\n",
    "id2word=dictionary_ko,\n",
    "num_topics=5,\n",
    "random_state=100,\n",
    "update_every=1,\n",
    "chunksize=100,\n",
    "passes=10,\n",
    "alpha='auto',\n",
    "per_word_topics=True)\n",
    "\n",
    "doc_lda = lda_model[tf_ko]\n",
    "print(doc_lda)\n",
    "import pprint\n",
    "\n",
    "pprint.pprint(lda_model.print_topics())\n",
    "\n",
    "\n",
    "######\n",
    "mallet_path = 'mallet-2.0.8/bin/mallet' # update this path\n",
    "ldamallet = gensim.models.wrappers.LdaMallet(mallet_path, corpus=tf_ko, num_topics=7, id2word=dictionary_ko)\n",
    "pprint.pprint(ldamallet.show_topics(formatted=False))\n"
   ]
  }
 ],
 "metadata": {
  "kernelspec": {
   "display_name": "Python 3",
   "language": "python",
   "name": "python3"
  },
  "language_info": {
   "codemirror_mode": {
    "name": "ipython",
    "version": 3
   },
   "file_extension": ".py",
   "mimetype": "text/x-python",
   "name": "python",
   "nbconvert_exporter": "python",
   "pygments_lexer": "ipython3",
   "version": "3.6.5"
  }
 },
 "nbformat": 4,
 "nbformat_minor": 2
}
