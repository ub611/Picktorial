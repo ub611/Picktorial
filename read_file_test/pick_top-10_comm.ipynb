{
 "cells": [
  {
   "cell_type": "code",
   "execution_count": 31,
   "metadata": {},
   "outputs": [],
   "source": [
    "import os\n",
    "import pandas as pd"
   ]
  },
  {
   "cell_type": "code",
   "execution_count": 32,
   "metadata": {},
   "outputs": [],
   "source": [
    "dir_list = ['TOP_QUALITY_GAME', 'TOP_SELLING_GAME', 'TOP_SELLING_PAID']\n",
    "csv_list = []\n",
    "for d in dir_list :\n",
    "    for file in os.listdir(d + \"/\"):\n",
    "        for csv in os.listdir(d + \"/\" + file):\n",
    "            if csv.endswith(\".csv\") :\n",
    "                csv_list.append(d + \"/\" + file + \"/\" + csv)"
   ]
  },
  {
   "cell_type": "code",
   "execution_count": 40,
   "metadata": {},
   "outputs": [
    {
     "name": "stdout",
     "output_type": "stream",
     "text": [
      "110\n"
     ]
    }
   ],
   "source": [
    "print(len(csv_list))"
   ]
  },
  {
   "cell_type": "code",
   "execution_count": 41,
   "metadata": {},
   "outputs": [
    {
     "name": "stdout",
     "output_type": "stream",
     "text": [
      "Angry Birds Classic 0\n",
      "Angry Birds Rio 1\n",
      "Block Puzzle 2\n",
      "Bubble Shooter 3\n",
      "Draughts 4\n",
      "Granny 5\n",
      "Hill Climb Racing 6\n",
      "Hill Climb Racing 2 7\n",
      "Plants vs. Zombies FREE 8\n",
      "마블킹 9\n",
      "마이토킹안젤라 (My Talking Angela) 10\n",
      "마이토킹톰 (My Talking Tom) 11\n",
      "버블 슈터 12\n",
      "버블 슈터 아이스 - 버블 팝 13\n",
      "벽돌깨기 퀘스트 14\n",
      "블록 퍼즐 보석 15\n",
      "솔리테르 16\n",
      "스도쿠 17\n",
      "스와이프 벽돌 깨기 18\n",
      "스트리트 레이싱 3D 19\n",
      "체스 20\n",
      "캔디크러쉬사가 21\n",
      "캔디크러쉬소다 22\n",
      "클래시 로얄 23\n",
      "클래시 오브 클랜 24\n",
      "토킹톰 골드런 25\n",
      "팜히어로사가 26\n",
      "포우 Pou 27\n",
      "Assassin's Creed Rebellion 28\n",
      "Color Road 29\n",
      "Design Home 30\n",
      "Find The Differences - The Detective 31\n",
      "Fire Balls 3D 32\n",
      "Flip Trickster - Parkour Simulator 33\n",
      "Gacha Life 34\n",
      "Happy Glass 35\n",
      "Helix Jump 36\n",
      "Hole.io 37\n",
      "Kick the Buddy 38\n",
      "Knock Balls 39\n",
      "Love Balls 40\n",
      "Magic Tiles 3 41\n",
      "Merge Plane - Click & Idle Tycoon 42\n",
      "Paper.io 2 43\n",
      "Planet Bomber! 44\n",
      "Pokemon GO 45\n",
      "PUBG MOBILE 46\n",
      "ROBLOX 47\n",
      "Slices 48\n",
      "slither.io 49\n",
      "Spinner.io 50\n",
      "Star Trek™ Fleet Command 51\n",
      "Stickman Hook 52\n",
      "Subway Surfers 53\n",
      "Swing Star 54\n",
      "Tank Stars 55\n",
      "Tomb of the Mask 56\n",
      "Toon Blast 57\n",
      "Word Cross 58\n",
      "Word Search Puzzle 59\n",
      "Words Story - Addictive Word Game 60\n",
      "Wordscapes 61\n",
      "마이토킹톰 2 62\n",
      "마이홈 - 꿈의 디자인 63\n",
      "매직 피아노 타일 2018 64\n",
      "숫자로 페인트-무료 컬러링북&퍼즐 게임 65\n",
      "캔디크러쉬 프렌즈 사가 66\n",
      "트리비아크랙 67\n",
      "60 Seconds! Atomic Adventure 68\n",
      "Age of Civilizations II 69\n",
      "Bloons TD 5 70\n",
      "Civilization Revolution 2 71\n",
      "Cluedo 72\n",
      "ePSXe for Android 73\n",
      "Evoland 74\n",
      "Exploding Kittens2⃞ - Official 75\n",
      "Farming Simulator 18 76\n",
      "Five Nights at Freddy's 77\n",
      "Florence 78\n",
      "Game Dev Tycoon 79\n",
      "Geometry Dash 80\n",
      "Getting Over It with Bennett Foddy 81\n",
      "Goat Simulator 82\n",
      "Gorogoa 83\n",
      "Grand Theft Auto III 84\n",
      "Infinite Flight - 비행 시뮬레이터 85\n",
      "Kingdom Rush Vengeance 86\n",
      "Minecraft 87\n",
      "Monument Valley 88\n",
      "Monument Valley 2 89\n",
      "My OldBoy! - GBC Emulator 90\n",
      "NBA 2K19 91\n",
      "NBA JAM  by EA SPORTS™ 92\n",
      "Pocket City 93\n",
      "Poly Bridge 94\n",
      "Real Drift Car Racing 95\n",
      "Reigns 96\n",
      "RollerCoaster Tycoon2⃞ Classic 97\n",
      "Scribblenauts Remix 98\n",
      "Scribblenauts Unlimited 99\n",
      "SuperRetro16 (SNES) 100\n",
      "Terraria 101\n",
      "The Room 102\n",
      "The Room Three 103\n",
      "The Room Two 104\n",
      "True Skate 105\n",
      "어메이징 스파이더맨 2 106\n",
      "어쌔신 크리드 아이덴티티 107\n",
      "트리비아크랙 (무광고) 108\n",
      "히트맨 스나이퍼 (Hitman Sniper) 109\n"
     ]
    }
   ],
   "source": [
    "i = 0\n",
    "for file in csv_list:\n",
    "    tmp = str(file)\n",
    "    name = tmp.split('/')[1]\n",
    "    reviews = pd.read_csv(file)\n",
    "    df = reviews.head(10)\n",
    "    df.to_csv(name + '.csv', sep=',', encoding='utf-8')\n",
    "    print(name, i)\n",
    "    i = i + 1"
   ]
  },
  {
   "cell_type": "code",
   "execution_count": null,
   "metadata": {},
   "outputs": [],
   "source": []
  }
 ],
 "metadata": {
  "kernelspec": {
   "display_name": "Python 3",
   "language": "python",
   "name": "python3"
  },
  "language_info": {
   "codemirror_mode": {
    "name": "ipython",
    "version": 3
   },
   "file_extension": ".py",
   "mimetype": "text/x-python",
   "name": "python",
   "nbconvert_exporter": "python",
   "pygments_lexer": "ipython3",
   "version": "3.6.5"
  }
 },
 "nbformat": 4,
 "nbformat_minor": 2
}
