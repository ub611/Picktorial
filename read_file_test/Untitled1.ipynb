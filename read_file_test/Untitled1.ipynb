{
 "cells": [
  {
   "cell_type": "code",
   "execution_count": 6,
   "metadata": {},
   "outputs": [],
   "source": [
    "import os\n",
    "import pandas as pd\n"
   ]
  },
  {
   "cell_type": "code",
   "execution_count": 22,
   "metadata": {},
   "outputs": [
    {
     "name": "stdout",
     "output_type": "stream",
     "text": [
      "60 Seconds! Atomic Adventure.csv\n",
      "Age of Civilizations II.csv\n",
      "Angry Birds Classic.csv\n",
      "Angry Birds Rio.csv\n",
      "Assassin's Creed Rebellion.csv\n",
      "Block Puzzle.csv\n",
      "Bloons TD 5.csv\n",
      "Bubble Shooter.csv\n",
      "Civilization Revolution 2.csv\n",
      "Cluedo.csv\n",
      "Color Road.csv\n",
      "Design Home.csv\n",
      "Draughts.csv\n",
      "ePSXe for Android.csv\n",
      "Evoland.csv\n",
      "Exploding Kittens® - Official.csv\n",
      "Farming Simulator 18.csv\n",
      "Find The Differences - The Detective.csv\n",
      "Fire Balls 3D.csv\n",
      "Five Nights at Freddy_s.csv\n",
      "Flip Trickster - Parkour Simulator.csv\n",
      "Florence.csv\n",
      "Game Dev Tycoon.csv\n",
      "Geometry Dash.csv\n",
      "Getting Over It with Bennett Foddy.csv\n",
      "Goat Simulator.csv\n",
      "Gorogoa.csv\n",
      "Grand Theft Auto III.csv\n",
      "Granny.csv\n",
      "Happy Glass.csv\n",
      "Helix Jump.csv\n",
      "Hill Climb Racing 2.csv\n",
      "Hill Climb Racing.csv\n",
      "Hole.io.csv\n",
      "Infinite Flight - 비행 시뮬레이터.csv\n",
      "Kick the Buddy.csv\n",
      "Kingdom Rush Vengeance.csv\n",
      "Knock Balls.csv\n",
      "Love Balls.csv\n",
      "Minecraft.csv\n",
      "Monument Valley.csv\n",
      "My OldBoy! - GBC Emulator.csv\n",
      "NBA 2K19.csv\n",
      "NBA JAM  by EA SPORTS™.csv\n",
      "Paper.io 2.csv\n",
      "Planet Bomber!.csv\n",
      "Plants vs. Zombies FREE.csv\n",
      "Pocket City.csv\n",
      "Pokemon GO.csv\n",
      "Poly Bridge.csv\n",
      "PUBG MOBILE.csv\n",
      "Real Drift Car Racing.csv\n",
      "Reigns.csv\n",
      "ROBLOX.csv\n",
      "RollerCoaster Tycoon® Classic.csv\n",
      "Scribblenauts Remix.csv\n",
      "Scribblenauts Unlimited.csv\n",
      "Slices.csv\n",
      "slither.io.csv\n",
      "Spinner.io.csv\n",
      "Star Trek™ Fleet Command.csv\n",
      "Stickman Hook.csv\n",
      "Subway Surfers.csv\n",
      "SuperRetro16 (SNES).csv\n",
      "Swing Star.csv\n",
      "Tank Stars.csv\n",
      "Terraria.csv\n",
      "The Room Three.csv\n",
      "The Room Two.csv\n",
      "The Room.csv\n",
      "Tomb of the Mask.csv\n",
      "Toon Blast.csv\n",
      "True Skate.csv\n",
      "Word Cross.csv\n",
      "Word Search Puzzle.csv\n",
      "Words Story - Addictive Word Game.csv\n",
      "Wordscapes.csv\n",
      "마블킹.csv\n",
      "마이토킹안젤라 (My Talking Angela).csv\n",
      "마이토킹톰 (My Talking Tom).csv\n",
      "마이토킹톰 2.csv\n",
      "마이홈 - 꿈의 디자인.csv\n",
      "매직 피아노 타일 2018.csv\n",
      "버블 슈터 아이스 - 버블 팝.csv\n",
      "버블 슈터.csv\n",
      "벽돌깨기 퀘스트.csv\n",
      "블록 퍼즐 보석.csv\n",
      "솔리테르.csv\n",
      "숫자로 페인트-무료 컬러링북&퍼즐 게임.csv\n",
      "스도쿠.csv\n",
      "스와이프 벽돌 깨기.csv\n",
      "스트리트 레이싱 3D.csv\n",
      "어메이징 스파이더맨 2.csv\n",
      "어쌔신 크리드 아이덴티티.csv\n",
      "체스.csv\n",
      "체커.csv\n",
      "캔디크러쉬 프렌즈 사가.csv\n",
      "캔디크러쉬사가.csv\n",
      "캔디크러쉬소다.csv\n",
      "클래시 로얄.csv\n",
      "클래시 오브 클랜.csv\n",
      "토킹톰 골드런.csv\n",
      "트리비아크랙 (무광고).csv\n",
      "트리비아크랙.csv\n",
      "팜히어로사가.csv\n",
      "포우 Pou.csv\n",
      "히트맨 스나이퍼 (Hitman Sniper).csv\n"
     ]
    }
   ],
   "source": [
    "data = []\n",
    "\n",
    "for file in os.listdir('Reviews'):\n",
    "    print(file)\n",
    "    df = pd.read_csv(r'Reviews/' + file)\n",
    "    data.append(df[:10])\n",
    "       "
   ]
  },
  {
   "cell_type": "code",
   "execution_count": 44,
   "metadata": {},
   "outputs": [
    {
     "name": "stdout",
     "output_type": "stream",
     "text": [
      "107\n"
     ]
    }
   ],
   "source": [
    "print(len(data))"
   ]
  },
  {
   "cell_type": "code",
   "execution_count": 47,
   "metadata": {},
   "outputs": [
    {
     "name": "stdout",
     "output_type": "stream",
     "text": [
      "[' 굿굳', ' 제 폰이 노트 4라 그런가 로딩이 약간 느린데 플레이할 땐 렉도 없고 그래픽도 괜찮고 재밌어요 최고 줌으로 유인이 동시 살 시체 처리 신속처리 은신 처리 헤드샷 보너스 한 번에 먹으면 기분 최고!', ' 정말 다 좋은데 맵을 좀 새롭게 만들어 주시면 안 되나요?? 슬슬 새로운 맵이 나와야 하지 않나... 싶은? 생각이 드네요 ㅜ 이제 사람 나오는 순서도 다 외울 거 같아요', ' 맵이 좀 많았으면 좋겠는데 하나뿐임. 그래도 굿', ' 게임에 있는 모든 것이 최고입니다! PERFECT 다만 맵이 조금 더 추가됐으면 좋겠습니다.', ' 이때까지 한 모바일 게임 중에서 제일 재미있고 그래픽도 가장 멋집니다!! 전 이 게임 강력 추천합니다!! 대신 새로운 맵도 추가했으면 합니다 ^^', ' 유료 게임이 무료여서 다운로드해 해보았는데 딱 내가 좋아하는 장르에다가 게임도 되게 재미있어요', ' For a long time, I have been fan of Hitman Serious and I really thanks for I can play even on the mobile. Thank you for your work, SEL', ' 예.... 뭐든지 다 좋아요 근데 맵이 하가 밖에 없는 것 한글화가 안대 있다는 게 조금 불편해 내여', ' 정말 재밌습니다. 스트레스가 많을 때 하면 좋은 게임이 될 것 같아요~~']\n"
     ]
    }
   ],
   "source": [
    "print(data[106].review.tolist())"
   ]
  },
  {
   "cell_type": "code",
   "execution_count": 43,
   "metadata": {},
   "outputs": [
    {
     "name": "stdout",
     "output_type": "stream",
     "text": [
      "1018\n"
     ]
    }
   ],
   "source": [
    "top_10_list = []\n",
    "\n",
    "for i in range(len(data)):\n",
    "    tmp_list = data[i].review.tolist()\n",
    "    for _str in tmp_list:\n",
    "        top_10_list.append(_str)\n",
    "        \n",
    "print(len(top_10_list))"
   ]
  },
  {
   "cell_type": "code",
   "execution_count": 24,
   "metadata": {},
   "outputs": [
    {
     "ename": "AttributeError",
     "evalue": "'list' object has no attribute 'to_csv'",
     "output_type": "error",
     "traceback": [
      "\u001b[0;31m---------------------------------------------------------------------------\u001b[0m",
      "\u001b[0;31mAttributeError\u001b[0m                            Traceback (most recent call last)",
      "\u001b[0;32m<ipython-input-24-3f703b95b142>\u001b[0m in \u001b[0;36m<module>\u001b[0;34m\u001b[0m\n\u001b[0;32m----> 1\u001b[0;31m \u001b[0mdata\u001b[0m\u001b[0;34m.\u001b[0m\u001b[0mto_csv\u001b[0m\u001b[0;34m\u001b[0m\u001b[0m\n\u001b[0m",
      "\u001b[0;31mAttributeError\u001b[0m: 'list' object has no attribute 'to_csv'"
     ]
    }
   ],
   "source": []
  },
  {
   "cell_type": "code",
   "execution_count": null,
   "metadata": {},
   "outputs": [],
   "source": []
  }
 ],
 "metadata": {
  "kernelspec": {
   "display_name": "Python 3",
   "language": "python",
   "name": "python3"
  },
  "language_info": {
   "codemirror_mode": {
    "name": "ipython",
    "version": 3
   },
   "file_extension": ".py",
   "mimetype": "text/x-python",
   "name": "python",
   "nbconvert_exporter": "python",
   "pygments_lexer": "ipython3",
   "version": "3.6.5"
  }
 },
 "nbformat": 4,
 "nbformat_minor": 2
}
