{
 "cells": [
  {
   "cell_type": "code",
   "execution_count": 14,
   "metadata": {},
   "outputs": [],
   "source": [
    "from konlpy.tag import Twitter\n",
    "from collections import Counter\n"
   ]
  },
  {
   "cell_type": "code",
   "execution_count": 15,
   "metadata": {},
   "outputs": [],
   "source": [
    "def get_tags(text, ntags=50):\n",
    "    spliter = Twitter()\n",
    "    # konlpy의 Twitter객체\n",
    "    nouns = spliter.nouns(text)\n",
    "    # nouns 함수를 통해서 text에서 명사만 분리/추출\n",
    "    count = Counter(nouns)\n",
    "    # Counter객체를 생성하고 참조변수 nouns할당\n",
    "    return_list = []  # 명사 빈도수 저장할 변수\n",
    "    for n, c in count.most_common(ntags):\n",
    "        temp = {'count': c, 'tag': n}\n",
    "        return_list.append(temp)\n",
    "    # most_common 메소드는 정수를 입력받아 객체 안의 명사중 빈도수\n",
    "    # 큰 명사부터 순서대로 입력받은 정수 갯수만큼 저장되어있는 객체 반환\n",
    "    # 명사와 사용된 갯수를 return_list에 저장합니다.\n",
    "    return return_list "
   ]
  },
  {
   "cell_type": "code",
   "execution_count": 17,
   "metadata": {},
   "outputs": [],
   "source": [
    "def main():\n",
    "    text_file_name = \"out.txt\"\n",
    "    # 분석할 파일\n",
    "    noun_count = 20\n",
    "    # 최대 많은 빈도수 부터 20개 명사 추출\n",
    "    output_file_name = \"count.txt\"\n",
    "    # count.txt 에 저장\n",
    "    open_text_file = open('마이홈 - 꿈의 디자인_review.csv', 'r',-1,\"utf-8\")\n",
    "    # 분석할 파일을 open \n",
    "    text = open_text_file.read() #파일을 읽습니다.\n",
    "    tags = get_tags(text, noun_count) # get_tags 함수 실행\n",
    "    open_text_file.close()   #파일 close\n",
    "    open_output_file = open(output_file_name, 'w',-1,\"utf-8\")\n",
    "    # 결과로 쓰일 count.txt 열기\n",
    "    for tag in tags:\n",
    "        noun = tag['tag']\n",
    "        count = tag['count']\n",
    "        open_output_file.write('{} {}\\n'.format(count, noun))\n",
    "    # 결과 저장\n",
    "    open_output_file.close() \n",
    " \n",
    "if __name__ == '__main__':\n",
    "    main()"
   ]
  },
  {
   "cell_type": "code",
   "execution_count": null,
   "metadata": {},
   "outputs": [],
   "source": []
  }
 ],
 "metadata": {
  "kernelspec": {
   "display_name": "Python 3",
   "language": "python",
   "name": "python3"
  },
  "language_info": {
   "codemirror_mode": {
    "name": "ipython",
    "version": 3
   },
   "file_extension": ".py",
   "mimetype": "text/x-python",
   "name": "python",
   "nbconvert_exporter": "python",
   "pygments_lexer": "ipython3",
   "version": "3.6.5"
  }
 },
 "nbformat": 4,
 "nbformat_minor": 2
}
